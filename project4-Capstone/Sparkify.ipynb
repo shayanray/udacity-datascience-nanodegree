{
 "cells": [
  {
   "cell_type": "markdown",
   "metadata": {},
   "source": [
    "# Sparkify Project Workspace\n",
    "This workspace contains a tiny subset (128MB) of the full dataset available (12GB). Feel free to use this workspace to build your project, or to explore a smaller subset with Spark before deploying your cluster on the cloud. Instructions for setting up your Spark cluster is included in the last lesson of the Extracurricular Spark Course content.\n",
    "\n",
    "You can follow the steps below to guide your data analysis and model building portion of this project."
   ]
  },
  {
   "cell_type": "code",
   "execution_count": 1,
   "metadata": {},
   "outputs": [],
   "source": [
    "# import libraries\n",
    "import pyspark\n",
    "from pyspark import SparkConf\n",
    "from pyspark.sql import SparkSession\n",
    "from pyspark.sql.functions import udf\n",
    "from pyspark.sql.types import StringType\n",
    "from pyspark.sql.types import IntegerType, FloatType\n",
    "from pyspark.sql import functions as F\n",
    "from pyspark.sql.functions import *\n",
    "from pyspark.sql.functions import isnan, count, when, col, desc, udf, col, sort_array, asc, avg\n",
    "from pyspark.sql.functions import sum as Fsum\n",
    "from pyspark.sql.window import Window\n",
    "from pyspark.sql import Row\n",
    "\n",
    "from pyspark.ml import Pipeline\n",
    "from pyspark.ml.regression import LinearRegression\n",
    "from pyspark.ml.tuning import CrossValidator, ParamGridBuilder\n",
    "from pyspark.ml.classification import LogisticRegression, DecisionTreeClassifier, RandomForestClassifier, GBTClassifier, LinearSVC\n",
    "from pyspark.ml.evaluation import MulticlassClassificationEvaluator\n",
    "from pyspark.ml.feature import CountVectorizer, IDF, PCA, RegexTokenizer, VectorAssembler, Normalizer, StandardScaler\n",
    "\n",
    "\n",
    "import pandas as pd\n",
    "import numpy as np\n",
    "import re, time\n",
    "%matplotlib inline\n",
    "import matplotlib.pyplot as plt\n"
   ]
  },
  {
   "cell_type": "code",
   "execution_count": 2,
   "metadata": {},
   "outputs": [],
   "source": [
    "# set display options\n",
    "pd.set_option('display.max_columns', None)"
   ]
  },
  {
   "cell_type": "code",
   "execution_count": 3,
   "metadata": {},
   "outputs": [],
   "source": [
    "# create a Spark session\n",
    "spark = SparkSession.builder.appName(\"Udacity-Sparkify-Capstone\").getOrCreate()"
   ]
  },
  {
   "cell_type": "code",
   "execution_count": 4,
   "metadata": {},
   "outputs": [
    {
     "data": {
      "text/plain": [
       "[('spark.driver.port', '41959'),\n",
       " ('spark.app.name', 'Udacity-Sparkify-Capstone'),\n",
       " ('spark.app.id', 'local-1663102883121'),\n",
       " ('spark.rdd.compress', 'True'),\n",
       " ('spark.driver.host', 'c6ae829c258e'),\n",
       " ('spark.serializer.objectStreamReset', '100'),\n",
       " ('spark.master', 'local[*]'),\n",
       " ('spark.executor.id', 'driver'),\n",
       " ('spark.submit.deployMode', 'client'),\n",
       " ('spark.ui.showConsoleProgress', 'true')]"
      ]
     },
     "execution_count": 4,
     "metadata": {},
     "output_type": "execute_result"
    }
   ],
   "source": [
    "spark.sparkContext.getConf().getAll()"
   ]
  },
  {
   "cell_type": "markdown",
   "metadata": {},
   "source": [
    "# Load and Clean Dataset\n",
    "In this workspace, the mini-dataset file is `mini_sparkify_event_data.json`. Load and clean the dataset, checking for invalid or missing data - for example, records without userids or sessionids. "
   ]
  },
  {
   "cell_type": "code",
   "execution_count": 5,
   "metadata": {},
   "outputs": [],
   "source": [
    "dataset_df = spark.read.json(\"./mini_sparkify_event_data.json\")"
   ]
  },
  {
   "cell_type": "code",
   "execution_count": 6,
   "metadata": {},
   "outputs": [
    {
     "name": "stdout",
     "output_type": "stream",
     "text": [
      "+----------------+---------+---------+------+-------------+--------+---------+-----+------------------------------+------+--------+-------------+---------+-----------------------------+------+-------------+---------------------------------------------------------------------------------------------------------------+------+\n",
      "|artist          |auth     |firstName|gender|itemInSession|lastName|length   |level|location                      |method|page    |registration |sessionId|song                         |status|ts           |userAgent                                                                                                      |userId|\n",
      "+----------------+---------+---------+------+-------------+--------+---------+-----+------------------------------+------+--------+-------------+---------+-----------------------------+------+-------------+---------------------------------------------------------------------------------------------------------------+------+\n",
      "|Martha Tilston  |Logged In|Colin    |M     |50           |Freeman |277.89016|paid |Bakersfield, CA               |PUT   |NextSong|1538173362000|29       |Rockpools                    |200   |1538352117000|Mozilla/5.0 (Windows NT 6.1; WOW64; rv:31.0) Gecko/20100101 Firefox/31.0                                       |30    |\n",
      "|Five Iron Frenzy|Logged In|Micah    |M     |79           |Long    |236.09424|free |Boston-Cambridge-Newton, MA-NH|PUT   |NextSong|1538331630000|8        |Canada                       |200   |1538352180000|\"Mozilla/5.0 (Windows NT 6.1; WOW64) AppleWebKit/537.36 (KHTML, like Gecko) Chrome/37.0.2062.103 Safari/537.36\"|9     |\n",
      "|Adam Lambert    |Logged In|Colin    |M     |51           |Freeman |282.8273 |paid |Bakersfield, CA               |PUT   |NextSong|1538173362000|29       |Time For Miracles            |200   |1538352394000|Mozilla/5.0 (Windows NT 6.1; WOW64; rv:31.0) Gecko/20100101 Firefox/31.0                                       |30    |\n",
      "|Enigma          |Logged In|Micah    |M     |80           |Long    |262.71302|free |Boston-Cambridge-Newton, MA-NH|PUT   |NextSong|1538331630000|8        |Knocking On Forbidden Doors  |200   |1538352416000|\"Mozilla/5.0 (Windows NT 6.1; WOW64) AppleWebKit/537.36 (KHTML, like Gecko) Chrome/37.0.2062.103 Safari/537.36\"|9     |\n",
      "|Daft Punk       |Logged In|Colin    |M     |52           |Freeman |223.60771|paid |Bakersfield, CA               |PUT   |NextSong|1538173362000|29       |Harder Better Faster Stronger|200   |1538352676000|Mozilla/5.0 (Windows NT 6.1; WOW64; rv:31.0) Gecko/20100101 Firefox/31.0                                       |30    |\n",
      "+----------------+---------+---------+------+-------------+--------+---------+-----+------------------------------+------+--------+-------------+---------+-----------------------------+------+-------------+---------------------------------------------------------------------------------------------------------------+------+\n",
      "only showing top 5 rows\n",
      "\n"
     ]
    }
   ],
   "source": [
    "dataset_df.show(5, truncate = False)"
   ]
  },
  {
   "cell_type": "code",
   "execution_count": 7,
   "metadata": {},
   "outputs": [
    {
     "data": {
      "text/plain": [
       "DataFrame[summary: string, artist: string, auth: string, firstName: string, gender: string, itemInSession: string, lastName: string, length: string, level: string, location: string, method: string, page: string, registration: string, sessionId: string, song: string, status: string, ts: string, userAgent: string, userId: string]"
      ]
     },
     "execution_count": 7,
     "metadata": {},
     "output_type": "execute_result"
    }
   ],
   "source": [
    "dataset_df.describe()"
   ]
  },
  {
   "cell_type": "code",
   "execution_count": 8,
   "metadata": {},
   "outputs": [
    {
     "name": "stdout",
     "output_type": "stream",
     "text": [
      "root\n",
      " |-- artist: string (nullable = true)\n",
      " |-- auth: string (nullable = true)\n",
      " |-- firstName: string (nullable = true)\n",
      " |-- gender: string (nullable = true)\n",
      " |-- itemInSession: long (nullable = true)\n",
      " |-- lastName: string (nullable = true)\n",
      " |-- length: double (nullable = true)\n",
      " |-- level: string (nullable = true)\n",
      " |-- location: string (nullable = true)\n",
      " |-- method: string (nullable = true)\n",
      " |-- page: string (nullable = true)\n",
      " |-- registration: long (nullable = true)\n",
      " |-- sessionId: long (nullable = true)\n",
      " |-- song: string (nullable = true)\n",
      " |-- status: long (nullable = true)\n",
      " |-- ts: long (nullable = true)\n",
      " |-- userAgent: string (nullable = true)\n",
      " |-- userId: string (nullable = true)\n",
      "\n"
     ]
    }
   ],
   "source": [
    "dataset_df.printSchema()"
   ]
  },
  {
   "cell_type": "markdown",
   "metadata": {},
   "source": [
    "Possible candidate columns for model training\n",
    "\n",
    "- userId\n",
    "- gender\n",
    "- itemInSession\n",
    "- length\n",
    "- level\n",
    "- location\n",
    "- page\n",
    "- registration\n",
    "- artist\n",
    "- song\n",
    "- userAgent\n",
    "\n",
    "\n",
    "Check for isnull for each of these columns to discard empty rows or impute depending on findings\n",
    "\n",
    "The following at a first glance do not seem useful to predict churn.\n",
    "- auth (being logged in or not)\n",
    "- firstname (user's first name)\n",
    "- lastname (user's last name)\n"
   ]
  },
  {
   "cell_type": "code",
   "execution_count": 9,
   "metadata": {},
   "outputs": [
    {
     "data": {
      "text/plain": [
       "58392"
      ]
     },
     "execution_count": 9,
     "metadata": {},
     "output_type": "execute_result"
    }
   ],
   "source": [
    "dataset_df.filter(  isnull(dataset_df[\"userId\"]) | \n",
    "                    isnull(dataset_df[\"gender\"]) | \n",
    "                    isnull(dataset_df[\"itemInSession\"]) | \n",
    "                    isnull(dataset_df[\"length\"]) | \n",
    "                    isnull(dataset_df[\"level\"]) | \n",
    "                    isnull(dataset_df[\"location\"]) | \n",
    "                    isnull(dataset_df[\"page\"]) | \n",
    "                    isnull(dataset_df[\"registration\"]) |\n",
    "                    isnull(dataset_df[\"artist\"]) | \n",
    "                    isnull(dataset_df[\"song\"]) | \n",
    "                    isnull(dataset_df[\"userAgent\"]) \n",
    "                 ).count()"
   ]
  },
  {
   "cell_type": "code",
   "execution_count": 10,
   "metadata": {},
   "outputs": [
    {
     "data": {
      "text/plain": [
       "[Row(artist='Martha Tilston', auth='Logged In', firstName='Colin', gender='M', itemInSession=50, lastName='Freeman', length=277.89016, level='paid', location='Bakersfield, CA', method='PUT', page='NextSong', registration=1538173362000, sessionId=29, song='Rockpools', status=200, ts=1538352117000, userAgent='Mozilla/5.0 (Windows NT 6.1; WOW64; rv:31.0) Gecko/20100101 Firefox/31.0', userId='30'),\n",
       " Row(artist='Five Iron Frenzy', auth='Logged In', firstName='Micah', gender='M', itemInSession=79, lastName='Long', length=236.09424, level='free', location='Boston-Cambridge-Newton, MA-NH', method='PUT', page='NextSong', registration=1538331630000, sessionId=8, song='Canada', status=200, ts=1538352180000, userAgent='\"Mozilla/5.0 (Windows NT 6.1; WOW64) AppleWebKit/537.36 (KHTML, like Gecko) Chrome/37.0.2062.103 Safari/537.36\"', userId='9')]"
      ]
     },
     "execution_count": 10,
     "metadata": {},
     "output_type": "execute_result"
    }
   ],
   "source": [
    "dataset_df.take(2)"
   ]
  },
  {
   "cell_type": "code",
   "execution_count": 11,
   "metadata": {},
   "outputs": [
    {
     "data": {
      "text/plain": [
       "286500"
      ]
     },
     "execution_count": 11,
     "metadata": {},
     "output_type": "execute_result"
    }
   ],
   "source": [
    "dataset_df.count()"
   ]
  },
  {
   "cell_type": "code",
   "execution_count": 12,
   "metadata": {},
   "outputs": [
    {
     "name": "stdout",
     "output_type": "stream",
     "text": [
      "+-------+------------------+\n",
      "|summary|            artist|\n",
      "+-------+------------------+\n",
      "|  count|            228108|\n",
      "|   mean| 551.0852017937219|\n",
      "| stddev|1217.7693079161374|\n",
      "|    min|               !!!|\n",
      "|    max| ÃÂlafur Arnalds|\n",
      "+-------+------------------+\n",
      "\n"
     ]
    }
   ],
   "source": [
    "# get basic statistics for artist\n",
    "dataset_df.describe(\"artist\").show()"
   ]
  },
  {
   "cell_type": "code",
   "execution_count": 13,
   "metadata": {},
   "outputs": [
    {
     "name": "stdout",
     "output_type": "stream",
     "text": [
      "+-------------------------+------+\n",
      "|page                     |count |\n",
      "+-------------------------+------+\n",
      "|Cancel                   |52    |\n",
      "|Submit Downgrade         |63    |\n",
      "|Thumbs Down              |2546  |\n",
      "|Home                     |14457 |\n",
      "|Downgrade                |2055  |\n",
      "|Roll Advert              |3933  |\n",
      "|Logout                   |3226  |\n",
      "|Save Settings            |310   |\n",
      "|Cancellation Confirmation|52    |\n",
      "|About                    |924   |\n",
      "|Submit Registration      |5     |\n",
      "|Settings                 |1514  |\n",
      "|Login                    |3241  |\n",
      "|Register                 |18    |\n",
      "|Add to Playlist          |6526  |\n",
      "|Add Friend               |4277  |\n",
      "|NextSong                 |228108|\n",
      "|Thumbs Up                |12551 |\n",
      "|Help                     |1726  |\n",
      "|Upgrade                  |499   |\n",
      "+-------------------------+------+\n",
      "only showing top 20 rows\n",
      "\n"
     ]
    }
   ],
   "source": [
    "dataset_df.groupby(\"page\").count().show(truncate = False)"
   ]
  },
  {
   "cell_type": "code",
   "execution_count": 14,
   "metadata": {},
   "outputs": [],
   "source": [
    "# dataset_df.groupby([\"userId\"]).sum().show(100, truncate=False)"
   ]
  },
  {
   "cell_type": "markdown",
   "metadata": {},
   "source": [
    "# Clean the data"
   ]
  },
  {
   "cell_type": "code",
   "execution_count": 15,
   "metadata": {},
   "outputs": [
    {
     "data": {
      "text/plain": [
       "8346"
      ]
     },
     "execution_count": 15,
     "metadata": {},
     "output_type": "execute_result"
    }
   ],
   "source": [
    "dataset_df.filter((dataset_df[\"userId\"] == None) | (dataset_df[\"userId\"] == \"\")).count()"
   ]
  },
  {
   "cell_type": "code",
   "execution_count": 16,
   "metadata": {},
   "outputs": [
    {
     "data": {
      "text/plain": [
       "278154"
      ]
     },
     "execution_count": 16,
     "metadata": {},
     "output_type": "execute_result"
    }
   ],
   "source": [
    "dataset_df.filter(dataset_df.gender.isNotNull()).count()"
   ]
  },
  {
   "cell_type": "code",
   "execution_count": 17,
   "metadata": {},
   "outputs": [
    {
     "data": {
      "text/plain": [
       "278154"
      ]
     },
     "execution_count": 17,
     "metadata": {},
     "output_type": "execute_result"
    }
   ],
   "source": [
    "cleaned_df = dataset_df.filter( dataset_df.userId.isNotNull() & \n",
    "                                dataset_df.gender.isNotNull() &\n",
    "                                dataset_df.itemInSession.isNotNull() &\n",
    "                                dataset_df.level.isNotNull() &\n",
    "                                dataset_df.location.isNotNull() &\n",
    "                                dataset_df.page.isNotNull() &\n",
    "                                dataset_df.registration.isNotNull() &\n",
    "                                dataset_df.userAgent.isNotNull() \n",
    "                )\n",
    "cleaned_df.count()"
   ]
  },
  {
   "cell_type": "code",
   "execution_count": 18,
   "metadata": {},
   "outputs": [
    {
     "data": {
      "text/plain": [
       "228108"
      ]
     },
     "execution_count": 18,
     "metadata": {},
     "output_type": "execute_result"
    }
   ],
   "source": [
    "interesting_churn_find_df = dataset_df.filter( dataset_df.userId.isNotNull() & \n",
    "                                dataset_df.gender.isNotNull() &\n",
    "                                dataset_df.itemInSession.isNotNull() &\n",
    "                                dataset_df.level.isNotNull() &\n",
    "                                dataset_df.location.isNotNull() &\n",
    "                                dataset_df.page.isNotNull() &\n",
    "                                dataset_df.registration.isNotNull() &\n",
    "                                dataset_df.userAgent.isNotNull() &\n",
    "                                dataset_df.length.isNotNull() & \n",
    "                                dataset_df.artist.isNotNull() &\n",
    "                                dataset_df.song.isNotNull() \n",
    "                )\n",
    "interesting_churn_find_df.count()"
   ]
  },
  {
   "cell_type": "code",
   "execution_count": 19,
   "metadata": {},
   "outputs": [
    {
     "data": {
      "text/plain": [
       "0"
      ]
     },
     "execution_count": 19,
     "metadata": {},
     "output_type": "execute_result"
    }
   ],
   "source": [
    "cleaned_df.filter((dataset_df[\"userId\"] == None) | (dataset_df[\"userId\"] == \"\")).count()"
   ]
  },
  {
   "cell_type": "code",
   "execution_count": 20,
   "metadata": {},
   "outputs": [
    {
     "name": "stdout",
     "output_type": "stream",
     "text": [
      "+------+-----+\n",
      "|userId|count|\n",
      "+------+-----+\n",
      "|100010|381  |\n",
      "|200002|474  |\n",
      "|125   |11   |\n",
      "|51    |2464 |\n",
      "|124   |4825 |\n",
      "|7     |201  |\n",
      "|54    |3437 |\n",
      "|15    |2278 |\n",
      "|155   |1002 |\n",
      "|132   |2304 |\n",
      "|154   |118  |\n",
      "|100014|310  |\n",
      "|101   |2149 |\n",
      "|11    |848  |\n",
      "|138   |2469 |\n",
      "|300017|4428 |\n",
      "|29    |3603 |\n",
      "|69    |1342 |\n",
      "|100021|319  |\n",
      "|42    |4257 |\n",
      "+------+-----+\n",
      "only showing top 20 rows\n",
      "\n"
     ]
    }
   ],
   "source": [
    "cleaned_df.groupby(\"userId\").count().show(truncate = False)"
   ]
  },
  {
   "cell_type": "markdown",
   "metadata": {},
   "source": [
    "# Exploratory Data Analysis\n",
    "When you're working with the full dataset, perform EDA by loading a small subset of the data and doing basic manipulations within Spark. In this workspace, you are already provided a small subset of data you can explore.\n",
    "\n",
    "### Define Churn\n",
    "\n",
    "Once you've done some preliminary analysis, create a column `Churn` to use as the label for your model. I suggest using the `Cancellation Confirmation` events to define your churn, which happen for both paid and free users. As a bonus task, you can also look into the `Downgrade` events.\n",
    "\n",
    "### Explore Data\n",
    "Once you've defined churn, perform some exploratory data analysis to observe the behavior for users who stayed vs users who churned. You can start by exploring aggregates on these two groups of users, observing how much of a specific action they experienced per a certain time unit or number of songs played."
   ]
  },
  {
   "cell_type": "code",
   "execution_count": 21,
   "metadata": {},
   "outputs": [],
   "source": [
    "create_churn_label = udf(lambda page: 1.0 if page == \"Cancellation Confirmation\" else 0.0, FloatType())"
   ]
  },
  {
   "cell_type": "code",
   "execution_count": 22,
   "metadata": {},
   "outputs": [],
   "source": [
    "cleaned_df = cleaned_df.withColumn(\"churn\", create_churn_label(cleaned_df[\"page\"]))"
   ]
  },
  {
   "cell_type": "code",
   "execution_count": 23,
   "metadata": {},
   "outputs": [],
   "source": [
    "interesting_churn_find_df = interesting_churn_find_df.withColumn(\"churn\", create_churn_label(interesting_churn_find_df[\"page\"]))"
   ]
  },
  {
   "cell_type": "code",
   "execution_count": 24,
   "metadata": {},
   "outputs": [],
   "source": [
    "dataset_df = dataset_df.withColumn(\"churn\", create_churn_label(interesting_churn_find_df[\"page\"]))"
   ]
  },
  {
   "cell_type": "code",
   "execution_count": 25,
   "metadata": {},
   "outputs": [
    {
     "data": {
      "text/plain": [
       "[Row(artist='Martha Tilston', auth='Logged In', firstName='Colin', gender='M', itemInSession=50, lastName='Freeman', length=277.89016, level='paid', location='Bakersfield, CA', method='PUT', page='NextSong', registration=1538173362000, sessionId=29, song='Rockpools', status=200, ts=1538352117000, userAgent='Mozilla/5.0 (Windows NT 6.1; WOW64; rv:31.0) Gecko/20100101 Firefox/31.0', userId='30', churn=0.0),\n",
       " Row(artist='Five Iron Frenzy', auth='Logged In', firstName='Micah', gender='M', itemInSession=79, lastName='Long', length=236.09424, level='free', location='Boston-Cambridge-Newton, MA-NH', method='PUT', page='NextSong', registration=1538331630000, sessionId=8, song='Canada', status=200, ts=1538352180000, userAgent='\"Mozilla/5.0 (Windows NT 6.1; WOW64) AppleWebKit/537.36 (KHTML, like Gecko) Chrome/37.0.2062.103 Safari/537.36\"', userId='9', churn=0.0)]"
      ]
     },
     "execution_count": 25,
     "metadata": {},
     "output_type": "execute_result"
    }
   ],
   "source": [
    "cleaned_df.head(2)"
   ]
  },
  {
   "cell_type": "code",
   "execution_count": 26,
   "metadata": {},
   "outputs": [
    {
     "name": "stdout",
     "output_type": "stream",
     "text": [
      "+-----+-----+\n",
      "|churn|count|\n",
      "+-----+-----+\n",
      "|1.0  |52   |\n",
      "|0.0  |225  |\n",
      "+-----+-----+\n",
      "\n"
     ]
    }
   ],
   "source": [
    "churned_count_df = cleaned_df.select([\"userId\", \"churn\"]).dropDuplicates().groupby(\"churn\").count()\n",
    "churned_count_df.show(truncate = False)"
   ]
  },
  {
   "cell_type": "code",
   "execution_count": 27,
   "metadata": {},
   "outputs": [
    {
     "name": "stdout",
     "output_type": "stream",
     "text": [
      "+-----+-----+\n",
      "|churn|count|\n",
      "+-----+-----+\n",
      "|0.0  |225  |\n",
      "+-----+-----+\n",
      "\n"
     ]
    }
   ],
   "source": [
    "interesting_churn_find_df.select([\"userId\", \"churn\"]).dropDuplicates().groupby(\"churn\").count().show(truncate = False)"
   ]
  },
  {
   "cell_type": "code",
   "execution_count": 28,
   "metadata": {},
   "outputs": [
    {
     "name": "stdout",
     "output_type": "stream",
     "text": [
      "+------+------+------+----+-----+\n",
      "|userId|length|artist|song|churn|\n",
      "+------+------+------+----+-----+\n",
      "|18    |null  |null  |null|1.0  |\n",
      "|32    |null  |null  |null|1.0  |\n",
      "|125   |null  |null  |null|1.0  |\n",
      "|105   |null  |null  |null|1.0  |\n",
      "|17    |null  |null  |null|1.0  |\n",
      "|143   |null  |null  |null|1.0  |\n",
      "|101   |null  |null  |null|1.0  |\n",
      "|129   |null  |null  |null|1.0  |\n",
      "|121   |null  |null  |null|1.0  |\n",
      "|51    |null  |null  |null|1.0  |\n",
      "|87    |null  |null  |null|1.0  |\n",
      "|122   |null  |null  |null|1.0  |\n",
      "|12    |null  |null  |null|1.0  |\n",
      "|58    |null  |null  |null|1.0  |\n",
      "|73    |null  |null  |null|1.0  |\n",
      "|3     |null  |null  |null|1.0  |\n",
      "|106   |null  |null  |null|1.0  |\n",
      "|103   |null  |null  |null|1.0  |\n",
      "|28    |null  |null  |null|1.0  |\n",
      "|54    |null  |null  |null|1.0  |\n",
      "+------+------+------+----+-----+\n",
      "only showing top 20 rows\n",
      "\n"
     ]
    }
   ],
   "source": [
    "# looks like the churn record has length, artist, song, churn as null\n",
    "cleaned_df.select([\"userId\", \"length\", \"artist\", \"song\", \"churn\"]).filter(cleaned_df.churn == 1).show(truncate = False)"
   ]
  },
  {
   "cell_type": "code",
   "execution_count": 29,
   "metadata": {},
   "outputs": [
    {
     "name": "stdout",
     "output_type": "stream",
     "text": [
      "+------+---------+---------+------+-------------+--------+------+-----+---------------------------+------+-------------------------+-------------+---------+----+------+-------------+-------------------------------------------------------------------------------------------------------------------------------------------+------+-----+\n",
      "|artist|auth     |firstName|gender|itemInSession|lastName|length|level|location                   |method|page                     |registration |sessionId|song|status|ts           |userAgent                                                                                                                                  |userId|churn|\n",
      "+------+---------+---------+------+-------------+--------+------+-----+---------------------------+------+-------------------------+-------------+---------+----+------+-------------+-------------------------------------------------------------------------------------------------------------------------------------------+------+-----+\n",
      "|null  |Cancelled|Adriel   |M     |104          |Mendoza |null  |paid |Kansas City, MO-KS         |GET   |Cancellation Confirmation|1535623466000|514      |null|200   |1538943990000|\"Mozilla/5.0 (Macintosh; Intel Mac OS X 10_9_4) AppleWebKit/537.77.4 (KHTML, like Gecko) Version/7.0.5 Safari/537.77.4\"                    |18    |1.0  |\n",
      "|null  |Cancelled|Diego    |M     |56           |Mckee   |null  |paid |Phoenix-Mesa-Scottsdale, AZ|GET   |Cancellation Confirmation|1537167593000|540      |null|200   |1539033046000|\"Mozilla/5.0 (iPhone; CPU iPhone OS 7_1_2 like Mac OS X) AppleWebKit/537.51.2 (KHTML, like Gecko) Version/7.0 Mobile/11D257 Safari/9537.53\"|32    |1.0  |\n",
      "+------+---------+---------+------+-------------+--------+------+-----+---------------------------+------+-------------------------+-------------+---------+----+------+-------------+-------------------------------------------------------------------------------------------------------------------------------------------+------+-----+\n",
      "only showing top 2 rows\n",
      "\n"
     ]
    }
   ],
   "source": [
    "cleaned_df.filter(cleaned_df.churn == 1).show(2, truncate = False)"
   ]
  },
  {
   "cell_type": "markdown",
   "metadata": {},
   "source": [
    "## Churn Distribution Plot"
   ]
  },
  {
   "cell_type": "code",
   "execution_count": 30,
   "metadata": {},
   "outputs": [
    {
     "data": {
      "text/plain": [
       "<matplotlib.figure.Figure at 0x7f2a035d8358>"
      ]
     },
     "metadata": {},
     "output_type": "display_data"
    },
    {
     "data": {
      "image/png": "[encoded data removed]",
      "text/plain": [
       "<matplotlib.figure.Figure at 0x7f2a360b0be0>"
      ]
     },
     "metadata": {
      "needs_background": "light"
     },
     "output_type": "display_data"
    }
   ],
   "source": [
    "\n",
    "plt.figure(figsize = [6,4])\n",
    "churned_count_df.toPandas().plot(kind=\"bar\", x=\"churn\", y=\"count\", title=\"Churned Users count\")\n",
    "plt.xlabel(\"churn value\")\n",
    "plt.ylabel(\"count\")\n",
    "plt.grid(True)\n",
    "plt.legend([\"churned\", \"not churned\"], loc =\"upper left\")\n",
    "plt.show()"
   ]
  },
  {
   "cell_type": "markdown",
   "metadata": {},
   "source": [
    "This is a clear case of imbalanced dataset and appropriate ML model selection and metrics are required to deal with this situation. TODO add more details"
   ]
  },
  {
   "cell_type": "markdown",
   "metadata": {},
   "source": [
    "## Gender impact on Churning"
   ]
  },
  {
   "cell_type": "code",
   "execution_count": 31,
   "metadata": {},
   "outputs": [
    {
     "name": "stdout",
     "output_type": "stream",
     "text": [
      "+------+-----+-----+\n",
      "|gender|churn|count|\n",
      "+------+-----+-----+\n",
      "|     F|  1.0|   20|\n",
      "|     F|  0.0|  104|\n",
      "|     M|  1.0|   32|\n",
      "|     M|  0.0|  121|\n",
      "+------+-----+-----+\n",
      "\n"
     ]
    },
    {
     "data": {
      "image/png": "[encoded data removed]",
      "text/plain": [
       "<matplotlib.figure.Figure at 0x7f2a014d3be0>"
      ]
     },
     "metadata": {
      "needs_background": "light"
     },
     "output_type": "display_data"
    }
   ],
   "source": [
    "num_gender_df = cleaned_df.select([ \"gender\",\"userId\", \"churn\"]).dropDuplicates().groupby([\"gender\",\"churn\"]).count()\n",
    "num_gender_df.show()\n",
    "num_gender_df.toPandas().plot(kind=\"bar\", x=\"gender\", y=\"count\")\n",
    "plt.xlabel(\"gender\")\n",
    "plt.ylabel(\"churn-count\")\n",
    "plt.grid(True)\n",
    "plt.legend([\"churned\", \"not-churned\"], loc =\"upper left\")\n",
    "plt.show()"
   ]
  },
  {
   "cell_type": "markdown",
   "metadata": {},
   "source": [
    "#### Observation from Gender vs Churn\n",
    "\n",
    "The graph shows males(61.5%) tend to churn more than females(38.5%)."
   ]
  },
  {
   "cell_type": "markdown",
   "metadata": {},
   "source": [
    "### Level Impact vs Churn "
   ]
  },
  {
   "cell_type": "code",
   "execution_count": 32,
   "metadata": {},
   "outputs": [
    {
     "name": "stdout",
     "output_type": "stream",
     "text": [
      "+-----+-----+-----+\n",
      "|level|churn|count|\n",
      "+-----+-----+-----+\n",
      "| paid|  0.0|  165|\n",
      "| free|  0.0|  195|\n",
      "| free|  1.0|   21|\n",
      "| paid|  1.0|   31|\n",
      "+-----+-----+-----+\n",
      "\n"
     ]
    },
    {
     "data": {
      "text/plain": [
       "<matplotlib.legend.Legend at 0x7f2a0148d9e8>"
      ]
     },
     "execution_count": 32,
     "metadata": {},
     "output_type": "execute_result"
    },
    {
     "data": {
      "image/png": "[encoded data removed]",
      "text/plain": [
       "<matplotlib.figure.Figure at 0x7f2a014969e8>"
      ]
     },
     "metadata": {
      "needs_background": "light"
     },
     "output_type": "display_data"
    }
   ],
   "source": [
    "num_level_df = cleaned_df.select([ \"level\",\"userId\", \"churn\"]).dropDuplicates().groupby([\"level\",\"churn\"]).count()\n",
    "num_level_df.show()\n",
    "num_level_df.toPandas().plot(kind=\"bar\", x=\"level\", y=\"count\")\n",
    "plt.xlabel(\"level\")\n",
    "plt.ylabel(\"churn-count\")\n",
    "plt.grid(True)\n",
    "plt.legend([\"paid\", \"free\"], loc =\"upper left\")\n",
    "#plt.show()"
   ]
  },
  {
   "cell_type": "markdown",
   "metadata": {},
   "source": [
    "#### Observation from Level/Tier vs Churn\n",
    "\n",
    "Graph shows paid tier users tend to churn more(59.6%) than free tier users(40.4%)"
   ]
  },
  {
   "cell_type": "markdown",
   "metadata": {},
   "source": [
    "### Browser/UserAgent Impact on Churn "
   ]
  },
  {
   "cell_type": "code",
   "execution_count": 33,
   "metadata": {},
   "outputs": [
    {
     "name": "stdout",
     "output_type": "stream",
     "text": [
      "+-------------------------------------------------------------------------------------------------------------------------------------------+-----+-----+\n",
      "|userAgent                                                                                                                                  |churn|count|\n",
      "+-------------------------------------------------------------------------------------------------------------------------------------------+-----+-----+\n",
      "|\"Mozilla/5.0 (X11; Linux x86_64) AppleWebKit/537.36 (KHTML, like Gecko) Chrome/36.0.1985.125 Safari/537.36\"                                |1.0  |1    |\n",
      "|Mozilla/5.0 (Windows NT 6.2; WOW64; rv:31.0) Gecko/20100101 Firefox/31.0                                                                   |1.0  |1    |\n",
      "|\"Mozilla/5.0 (Macintosh; Intel Mac OS X 10_9_4) AppleWebKit/537.36 (KHTML, like Gecko) Chrome/36.0.1985.143 Safari/537.36\"                 |1.0  |1    |\n",
      "|\"Mozilla/5.0 (Windows NT 6.1; WOW64) AppleWebKit/537.36 (KHTML, like Gecko) Chrome/37.0.2062.103 Safari/537.36\"                            |1.0  |1    |\n",
      "|\"Mozilla/5.0 (Windows NT 5.1) AppleWebKit/537.36 (KHTML, like Gecko) Chrome/36.0.1985.125 Safari/537.36\"                                   |1.0  |1    |\n",
      "|\"Mozilla/5.0 (Macintosh; Intel Mac OS X 10_9_4) AppleWebKit/537.36 (KHTML, like Gecko) Chrome/35.0.1916.153 Safari/537.36\"                 |1.0  |1    |\n",
      "|\"Mozilla/5.0 (Windows NT 6.1; WOW64) AppleWebKit/537.36 (KHTML, like Gecko) Chrome/36.0.1985.125 Safari/537.36\"                            |1.0  |1    |\n",
      "|\"Mozilla/5.0 (Macintosh; Intel Mac OS X 10_9_4) AppleWebKit/537.78.2 (KHTML, like Gecko) Version/7.0.6 Safari/537.78.2\"                    |1.0  |3    |\n",
      "|\"Mozilla/5.0 (iPhone; CPU iPhone OS 7_1_2 like Mac OS X) AppleWebKit/537.51.2 (KHTML, like Gecko) Version/7.0 Mobile/11D257 Safari/9537.53\"|1.0  |4    |\n",
      "|Mozilla/5.0 (Windows NT 6.1; WOW64; rv:31.0) Gecko/20100101 Firefox/31.0                                                                   |1.0  |4    |\n",
      "|\"Mozilla/5.0 (Macintosh; Intel Mac OS X 10_9_4) AppleWebKit/537.36 (KHTML, like Gecko) Chrome/36.0.1985.125 Safari/537.36\"                 |1.0  |5    |\n",
      "|\"Mozilla/5.0 (Macintosh; Intel Mac OS X 10_6_8) AppleWebKit/537.36 (KHTML, like Gecko) Chrome/36.0.1985.143 Safari/537.36\"                 |1.0  |1    |\n",
      "|Mozilla/5.0 (Windows NT 6.1; WOW64; rv:24.0) Gecko/20100101 Firefox/24.0                                                                   |1.0  |1    |\n",
      "|Mozilla/5.0 (Windows NT 6.1; rv:31.0) Gecko/20100101 Firefox/31.0                                                                          |1.0  |1    |\n",
      "|\"Mozilla/5.0 (Macintosh; Intel Mac OS X 10_9_2) AppleWebKit/537.36 (KHTML, like Gecko) Chrome/36.0.1985.125 Safari/537.36\"                 |1.0  |1    |\n",
      "|\"Mozilla/5.0 (Macintosh; Intel Mac OS X 10_9_4) AppleWebKit/537.36 (KHTML, like Gecko) Chrome/37.0.2062.94 Safari/537.36\"                  |1.0  |1    |\n",
      "|Mozilla/5.0 (X11; Ubuntu; Linux i686; rv:31.0) Gecko/20100101 Firefox/31.0                                                                 |1.0  |1    |\n",
      "|\"Mozilla/5.0 (Macintosh; Intel Mac OS X 10_9_4) AppleWebKit/537.77.4 (KHTML, like Gecko) Version/7.0.5 Safari/537.77.4\"                    |1.0  |3    |\n",
      "|\"Mozilla/5.0 (Windows NT 6.1; WOW64) AppleWebKit/537.36 (KHTML, like Gecko) Chrome/36.0.1985.143 Safari/537.36\"                            |1.0  |5    |\n",
      "|\"Mozilla/5.0 (Windows NT 6.3; WOW64) AppleWebKit/537.36 (KHTML, like Gecko) Chrome/36.0.1985.125 Safari/537.36\"                            |1.0  |2    |\n",
      "+-------------------------------------------------------------------------------------------------------------------------------------------+-----+-----+\n",
      "only showing top 20 rows\n",
      "\n"
     ]
    }
   ],
   "source": [
    "num_useragent_df = cleaned_df.filter(cleaned_df[\"churn\"] == 1).select([ \"userAgent\",\"userId\", \"churn\"]).dropDuplicates().groupby([\"userAgent\",\"churn\"]).count()\n",
    "num_useragent_df.show(truncate=False)\n"
   ]
  },
  {
   "cell_type": "code",
   "execution_count": 34,
   "metadata": {},
   "outputs": [
    {
     "data": {
      "text/plain": [
       "<matplotlib.legend.Legend at 0x7f2a04050c50>"
      ]
     },
     "execution_count": 34,
     "metadata": {},
     "output_type": "execute_result"
    },
    {
     "data": {
      "image/png": "[encoded data removed]",
      "text/plain": [
       "<matplotlib.figure.Figure at 0x7f2a014d3860>"
      ]
     },
     "metadata": {
      "needs_background": "light"
     },
     "output_type": "display_data"
    }
   ],
   "source": [
    "num_useragent_df.toPandas().plot(kind=\"bar\", x=\"userAgent\", y=\"count\", figsize = [18,16], legend=True)\n",
    "plt.legend([\"churned\", \"not-churned\"], loc =\"upper left\")\n"
   ]
  },
  {
   "cell_type": "markdown",
   "metadata": {},
   "source": [
    "#### Observations from useragent\n",
    "\n",
    "There is no overwhelming or significant correlation of user-agent to subscription cancellation. \n",
    "(Mac and Windows Safari browser each have 5 cancellations in the highest values)\n",
    "Discarding this feature for model prediction."
   ]
  },
  {
   "cell_type": "code",
   "execution_count": null,
   "metadata": {},
   "outputs": [],
   "source": []
  },
  {
   "cell_type": "markdown",
   "metadata": {},
   "source": [
    "# Feature Engineering\n",
    "Once you've familiarized yourself with the data, build out the features you find promising to train your model on. To work with the full dataset, you can follow the following steps.\n",
    "- Write a script to extract the necessary features from the smaller subset of data\n",
    "- Ensure that your script is scalable, using the best practices discussed in Lesson 3\n",
    "- Try your script on the full data set, debugging your script if necessary\n",
    "\n",
    "If you are working in the classroom workspace, you can just extract features based on the small subset of data contained here. Be sure to transfer over this work to the larger dataset when you work on your Spark cluster."
   ]
  },
  {
   "cell_type": "markdown",
   "metadata": {},
   "source": [
    "#### Useful features for model building\n",
    "\n",
    "##### Categorical:\n",
    "\n",
    "- gender\n",
    "- level\n",
    "\n",
    "\n",
    "###### Numerical:\n",
    "\n",
    "- number of unique songs played per userId\n",
    "- number of total songs played per userId\n",
    "- number of unique artists per userId\n",
    "- number of Ads action per userId\n",
    "- number of thumb down action per userId\n",
    "- number of thumbs up action per userId\n",
    "- number of friends added per userId\n",
    "- number of days after initial registration per userId"
   ]
  },
  {
   "cell_type": "markdown",
   "metadata": {},
   "source": [
    "#### create feature : gender"
   ]
  },
  {
   "cell_type": "code",
   "execution_count": 35,
   "metadata": {},
   "outputs": [],
   "source": [
    "set_gender_value = udf(lambda x: 1.0 if x == 'M' else 0.0, FloatType())"
   ]
  },
  {
   "cell_type": "code",
   "execution_count": 36,
   "metadata": {},
   "outputs": [
    {
     "name": "stdout",
     "output_type": "stream",
     "text": [
      "+------+------------+\n",
      "|userId|gender_value|\n",
      "+------+------------+\n",
      "|73    |0.0         |\n",
      "|19    |0.0         |\n",
      "|123   |1.0         |\n",
      "|200007|0.0         |\n",
      "|6     |1.0         |\n",
      "|67    |1.0         |\n",
      "|50    |0.0         |\n",
      "|8     |0.0         |\n",
      "|300006|1.0         |\n",
      "|13    |0.0         |\n",
      "|29    |1.0         |\n",
      "|7     |1.0         |\n",
      "|42    |0.0         |\n",
      "|91    |1.0         |\n",
      "|200015|1.0         |\n",
      "|300019|1.0         |\n",
      "|94    |0.0         |\n",
      "|86    |1.0         |\n",
      "|300003|1.0         |\n",
      "|100011|1.0         |\n",
      "+------+------------+\n",
      "only showing top 20 rows\n",
      "\n"
     ]
    }
   ],
   "source": [
    "ftr_gender  = cleaned_df.withColumn(\"gender_value\", set_gender_value(\"gender\")).select([\"userId\",\"gender_value\"]).dropDuplicates([\"userId\",\"gender_value\"])\n",
    "ftr_gender.show(truncate=False)"
   ]
  },
  {
   "cell_type": "markdown",
   "metadata": {},
   "source": [
    "#### create feature : last known level (latest_level)  - free or paid"
   ]
  },
  {
   "cell_type": "code",
   "execution_count": 37,
   "metadata": {},
   "outputs": [],
   "source": [
    "set_level_value = udf(lambda x: 1.0 if x == 'paid' else 0.0, FloatType())"
   ]
  },
  {
   "cell_type": "code",
   "execution_count": 38,
   "metadata": {},
   "outputs": [
    {
     "name": "stdout",
     "output_type": "stream",
     "text": [
      "+------+-----------+\n",
      "|userId|level_value|\n",
      "+------+-----------+\n",
      "|100010|0.0        |\n",
      "|200002|1.0        |\n",
      "|125   |0.0        |\n",
      "|124   |1.0        |\n",
      "|51    |1.0        |\n",
      "|7     |0.0        |\n",
      "|15    |1.0        |\n",
      "|54    |1.0        |\n",
      "|155   |1.0        |\n",
      "|100014|1.0        |\n",
      "|132   |1.0        |\n",
      "|154   |0.0        |\n",
      "|101   |1.0        |\n",
      "|11    |1.0        |\n",
      "|138   |1.0        |\n",
      "|300017|1.0        |\n",
      "|100021|0.0        |\n",
      "|29    |1.0        |\n",
      "|69    |1.0        |\n",
      "|112   |0.0        |\n",
      "+------+-----------+\n",
      "only showing top 20 rows\n",
      "\n"
     ]
    }
   ],
   "source": [
    "ftr_level = cleaned_df.orderBy('ts', ascending=False).groupBy('userId').agg(first('level').alias('latest_level')).drop('level')\n",
    "ftr_level = ftr_level.withColumn(\"level_value\", set_level_value(\"latest_level\")).drop('latest_level')\n",
    "ftr_level.show(truncate=False)"
   ]
  },
  {
   "cell_type": "code",
   "execution_count": null,
   "metadata": {},
   "outputs": [],
   "source": []
  },
  {
   "cell_type": "code",
   "execution_count": null,
   "metadata": {},
   "outputs": [],
   "source": []
  },
  {
   "cell_type": "markdown",
   "metadata": {},
   "source": [
    "#### create feature : number of unique songs played per userId"
   ]
  },
  {
   "cell_type": "code",
   "execution_count": 39,
   "metadata": {},
   "outputs": [
    {
     "name": "stdout",
     "output_type": "stream",
     "text": [
      "+------+----------------+\n",
      "|userId|num_unique_songs|\n",
      "+------+----------------+\n",
      "|100010|269             |\n",
      "|200002|378             |\n",
      "|125   |8               |\n",
      "|51    |1854            |\n",
      "|124   |3339            |\n",
      "|7     |148             |\n",
      "|15    |1707            |\n",
      "|54    |2414            |\n",
      "|155   |759             |\n",
      "|132   |1718            |\n",
      "|100014|248             |\n",
      "|154   |83              |\n",
      "|101   |1608            |\n",
      "|11    |616             |\n",
      "|138   |1791            |\n",
      "|300017|3013            |\n",
      "|29    |2562            |\n",
      "|69    |1036            |\n",
      "|100021|226             |\n",
      "|112   |211             |\n",
      "+------+----------------+\n",
      "only showing top 20 rows\n",
      "\n"
     ]
    }
   ],
   "source": [
    "ftr_num_unique_songs = cleaned_df.filter(cleaned_df[\"page\"] == \"NextSong\").select([\"userId\",\"song\"]).dropDuplicates([\"userId\",\"song\"]).groupby([\"userId\"]).count()\n",
    "ftr_num_unique_songs = ftr_num_unique_songs.selectExpr(\"userId as userId\", \"count as num_unique_songs\")\n",
    "ftr_num_unique_songs.show(truncate=False)"
   ]
  },
  {
   "cell_type": "markdown",
   "metadata": {},
   "source": [
    "#### create feature : number of total songs played per userId"
   ]
  },
  {
   "cell_type": "code",
   "execution_count": 40,
   "metadata": {},
   "outputs": [
    {
     "name": "stdout",
     "output_type": "stream",
     "text": [
      "+------+---------------+\n",
      "|userId|num_total_songs|\n",
      "+------+---------------+\n",
      "|100010|275            |\n",
      "|200002|387            |\n",
      "|125   |8              |\n",
      "|51    |2111           |\n",
      "|124   |4079           |\n",
      "|7     |150            |\n",
      "|54    |2841           |\n",
      "|15    |1914           |\n",
      "|155   |820            |\n",
      "|132   |1928           |\n",
      "|154   |84             |\n",
      "|100014|257            |\n",
      "|101   |1797           |\n",
      "|11    |647            |\n",
      "|138   |2070           |\n",
      "|300017|3632           |\n",
      "|29    |3028           |\n",
      "|69    |1125           |\n",
      "|100021|230            |\n",
      "|42    |3573           |\n",
      "+------+---------------+\n",
      "only showing top 20 rows\n",
      "\n"
     ]
    }
   ],
   "source": [
    "ftr_num_total_songs = cleaned_df.filter(cleaned_df[\"page\"] == \"NextSong\").select([\"userId\",\"song\"]).groupby([\"userId\"]).count()\n",
    "ftr_num_total_songs = ftr_num_total_songs.selectExpr(\"userId as userId\", \"count as num_total_songs\")\n",
    "ftr_num_total_songs.show(truncate=False)"
   ]
  },
  {
   "cell_type": "markdown",
   "metadata": {},
   "source": [
    "#### number of unique artists per userId"
   ]
  },
  {
   "cell_type": "code",
   "execution_count": 41,
   "metadata": {},
   "outputs": [
    {
     "name": "stdout",
     "output_type": "stream",
     "text": [
      "+------+------------------+\n",
      "|userId|num_unique_artists|\n",
      "+------+------------------+\n",
      "|100010|252               |\n",
      "|200002|339               |\n",
      "|125   |8                 |\n",
      "|51    |1385              |\n",
      "|124   |2232              |\n",
      "|7     |142               |\n",
      "|15    |1302              |\n",
      "|54    |1744              |\n",
      "|155   |643               |\n",
      "|132   |1299              |\n",
      "|154   |78                |\n",
      "|100014|233               |\n",
      "|101   |1241              |\n",
      "|11    |534               |\n",
      "|138   |1332              |\n",
      "|300017|2070              |\n",
      "|29    |1804              |\n",
      "|69    |865               |\n",
      "|100021|207               |\n",
      "|42    |2073              |\n",
      "+------+------------------+\n",
      "only showing top 20 rows\n",
      "\n"
     ]
    }
   ],
   "source": [
    "ftr_num_unique_artists = cleaned_df.filter(cleaned_df[\"page\"] == \"NextSong\").select([\"userId\",\"artist\"]).dropDuplicates([\"userId\",\"artist\"]).groupby([\"userId\"]).count()\n",
    "ftr_num_unique_artists = ftr_num_unique_artists.selectExpr(\"userId as userId\", \"count as num_unique_artists\")\n",
    "ftr_num_unique_artists.show(truncate=False)"
   ]
  },
  {
   "cell_type": "markdown",
   "metadata": {},
   "source": [
    "#### create feature : number of Ads action per userId"
   ]
  },
  {
   "cell_type": "code",
   "execution_count": 42,
   "metadata": {},
   "outputs": [],
   "source": [
    "roll_advert_event = udf(lambda x: 1.0 if x == \"Roll Advert\" else 0.0, FloatType())"
   ]
  },
  {
   "cell_type": "code",
   "execution_count": 43,
   "metadata": {},
   "outputs": [
    {
     "name": "stdout",
     "output_type": "stream",
     "text": [
      "+----------------+---------+---------+------+-------------+--------+---------+-----+------------------------------+------+--------+-------------+---------+-----------------------------+------+-------------+---------------------------------------------------------------------------------------------------------------+------+-----+-----------------+\n",
      "|artist          |auth     |firstName|gender|itemInSession|lastName|length   |level|location                      |method|page    |registration |sessionId|song                         |status|ts           |userAgent                                                                                                      |userId|churn|roll_advert_count|\n",
      "+----------------+---------+---------+------+-------------+--------+---------+-----+------------------------------+------+--------+-------------+---------+-----------------------------+------+-------------+---------------------------------------------------------------------------------------------------------------+------+-----+-----------------+\n",
      "|Martha Tilston  |Logged In|Colin    |M     |50           |Freeman |277.89016|paid |Bakersfield, CA               |PUT   |NextSong|1538173362000|29       |Rockpools                    |200   |1538352117000|Mozilla/5.0 (Windows NT 6.1; WOW64; rv:31.0) Gecko/20100101 Firefox/31.0                                       |30    |0.0  |0.0              |\n",
      "|Five Iron Frenzy|Logged In|Micah    |M     |79           |Long    |236.09424|free |Boston-Cambridge-Newton, MA-NH|PUT   |NextSong|1538331630000|8        |Canada                       |200   |1538352180000|\"Mozilla/5.0 (Windows NT 6.1; WOW64) AppleWebKit/537.36 (KHTML, like Gecko) Chrome/37.0.2062.103 Safari/537.36\"|9     |0.0  |0.0              |\n",
      "|Adam Lambert    |Logged In|Colin    |M     |51           |Freeman |282.8273 |paid |Bakersfield, CA               |PUT   |NextSong|1538173362000|29       |Time For Miracles            |200   |1538352394000|Mozilla/5.0 (Windows NT 6.1; WOW64; rv:31.0) Gecko/20100101 Firefox/31.0                                       |30    |0.0  |0.0              |\n",
      "|Enigma          |Logged In|Micah    |M     |80           |Long    |262.71302|free |Boston-Cambridge-Newton, MA-NH|PUT   |NextSong|1538331630000|8        |Knocking On Forbidden Doors  |200   |1538352416000|\"Mozilla/5.0 (Windows NT 6.1; WOW64) AppleWebKit/537.36 (KHTML, like Gecko) Chrome/37.0.2062.103 Safari/537.36\"|9     |0.0  |0.0              |\n",
      "|Daft Punk       |Logged In|Colin    |M     |52           |Freeman |223.60771|paid |Bakersfield, CA               |PUT   |NextSong|1538173362000|29       |Harder Better Faster Stronger|200   |1538352676000|Mozilla/5.0 (Windows NT 6.1; WOW64; rv:31.0) Gecko/20100101 Firefox/31.0                                       |30    |0.0  |0.0              |\n",
      "+----------------+---------+---------+------+-------------+--------+---------+-----+------------------------------+------+--------+-------------+---------+-----------------------------+------+-------------+---------------------------------------------------------------------------------------------------------------+------+-----+-----------------+\n",
      "only showing top 5 rows\n",
      "\n",
      "+------+-----------------+\n",
      "|userId|roll_advert_count|\n",
      "+------+-----------------+\n",
      "|100010|52               |\n",
      "|200002|7                |\n",
      "|125   |1                |\n",
      "|7     |16               |\n",
      "|124   |4                |\n",
      "|54    |47               |\n",
      "|15    |1                |\n",
      "|155   |8                |\n",
      "|154   |10               |\n",
      "|132   |2                |\n",
      "|100014|2                |\n",
      "|101   |8                |\n",
      "|11    |39               |\n",
      "|138   |17               |\n",
      "|300017|11               |\n",
      "|29    |22               |\n",
      "|69    |3                |\n",
      "|100021|30               |\n",
      "|42    |10               |\n",
      "|112   |21               |\n",
      "+------+-----------------+\n",
      "only showing top 20 rows\n",
      "\n"
     ]
    }
   ],
   "source": [
    "ftr_num_ads = cleaned_df.withColumn(\"roll_advert_count\", roll_advert_event(\"page\"))\n",
    "ftr_num_ads.show(5, truncate=False)\n",
    "                                    \n",
    "\n",
    "ftr_num_ads = ftr_num_ads.filter(ftr_num_ads[\"roll_advert_count\"] == 1).select([\"userId\",\"roll_advert_count\"]).groupby([\"userId\"]).count()\n",
    "ftr_num_ads = ftr_num_ads.selectExpr(\"userId as userId\", \"count as roll_advert_count\")\n",
    "ftr_num_ads.show(truncate=False)\n"
   ]
  },
  {
   "cell_type": "markdown",
   "metadata": {},
   "source": [
    "#### create feature: number of thumb down action per userId"
   ]
  },
  {
   "cell_type": "code",
   "execution_count": 44,
   "metadata": {},
   "outputs": [],
   "source": [
    "thumbs_down_event = udf(lambda x: 1.0 if x == \"Thumbs Down\" else 0.0, FloatType())"
   ]
  },
  {
   "cell_type": "code",
   "execution_count": 45,
   "metadata": {},
   "outputs": [
    {
     "name": "stdout",
     "output_type": "stream",
     "text": [
      "+----------------+---------+---------+------+-------------+--------+---------+-----+------------------------------+------+--------+-------------+---------+-----------------------------+------+-------------+---------------------------------------------------------------------------------------------------------------+------+-----+---------------+\n",
      "|artist          |auth     |firstName|gender|itemInSession|lastName|length   |level|location                      |method|page    |registration |sessionId|song                         |status|ts           |userAgent                                                                                                      |userId|churn|num_thumbs_down|\n",
      "+----------------+---------+---------+------+-------------+--------+---------+-----+------------------------------+------+--------+-------------+---------+-----------------------------+------+-------------+---------------------------------------------------------------------------------------------------------------+------+-----+---------------+\n",
      "|Martha Tilston  |Logged In|Colin    |M     |50           |Freeman |277.89016|paid |Bakersfield, CA               |PUT   |NextSong|1538173362000|29       |Rockpools                    |200   |1538352117000|Mozilla/5.0 (Windows NT 6.1; WOW64; rv:31.0) Gecko/20100101 Firefox/31.0                                       |30    |0.0  |0.0            |\n",
      "|Five Iron Frenzy|Logged In|Micah    |M     |79           |Long    |236.09424|free |Boston-Cambridge-Newton, MA-NH|PUT   |NextSong|1538331630000|8        |Canada                       |200   |1538352180000|\"Mozilla/5.0 (Windows NT 6.1; WOW64) AppleWebKit/537.36 (KHTML, like Gecko) Chrome/37.0.2062.103 Safari/537.36\"|9     |0.0  |0.0            |\n",
      "|Adam Lambert    |Logged In|Colin    |M     |51           |Freeman |282.8273 |paid |Bakersfield, CA               |PUT   |NextSong|1538173362000|29       |Time For Miracles            |200   |1538352394000|Mozilla/5.0 (Windows NT 6.1; WOW64; rv:31.0) Gecko/20100101 Firefox/31.0                                       |30    |0.0  |0.0            |\n",
      "|Enigma          |Logged In|Micah    |M     |80           |Long    |262.71302|free |Boston-Cambridge-Newton, MA-NH|PUT   |NextSong|1538331630000|8        |Knocking On Forbidden Doors  |200   |1538352416000|\"Mozilla/5.0 (Windows NT 6.1; WOW64) AppleWebKit/537.36 (KHTML, like Gecko) Chrome/37.0.2062.103 Safari/537.36\"|9     |0.0  |0.0            |\n",
      "|Daft Punk       |Logged In|Colin    |M     |52           |Freeman |223.60771|paid |Bakersfield, CA               |PUT   |NextSong|1538173362000|29       |Harder Better Faster Stronger|200   |1538352676000|Mozilla/5.0 (Windows NT 6.1; WOW64; rv:31.0) Gecko/20100101 Firefox/31.0                                       |30    |0.0  |0.0            |\n",
      "+----------------+---------+---------+------+-------------+--------+---------+-----+------------------------------+------+--------+-------------+---------+-----------------------------+------+-------------+---------------------------------------------------------------------------------------------------------------+------+-----+---------------+\n",
      "only showing top 5 rows\n",
      "\n",
      "+------+---------------+\n",
      "|userId|num_thumbs_down|\n",
      "+------+---------------+\n",
      "|100010|5              |\n",
      "|200002|6              |\n",
      "|51    |21             |\n",
      "|124   |41             |\n",
      "|7     |1              |\n",
      "|15    |14             |\n",
      "|54    |29             |\n",
      "|155   |3              |\n",
      "|132   |17             |\n",
      "|100014|3              |\n",
      "|101   |16             |\n",
      "|11    |9              |\n",
      "|138   |24             |\n",
      "|300017|28             |\n",
      "|29    |22             |\n",
      "|69    |9              |\n",
      "|100021|5              |\n",
      "|42    |25             |\n",
      "|112   |3              |\n",
      "|73    |7              |\n",
      "+------+---------------+\n",
      "only showing top 20 rows\n",
      "\n"
     ]
    }
   ],
   "source": [
    "ftr_num_thumbs_down = cleaned_df.withColumn(\"num_thumbs_down\", thumbs_down_event(\"page\"))\n",
    "ftr_num_thumbs_down.show(5, truncate=False)\n",
    "                                    \n",
    "\n",
    "ftr_num_thumbs_down = ftr_num_thumbs_down.filter(ftr_num_thumbs_down[\"num_thumbs_down\"] == 1).select([\"userId\",\"num_thumbs_down\"]).groupby([\"userId\"]).count()\n",
    "ftr_num_thumbs_down = ftr_num_thumbs_down.selectExpr(\"userId as userId\", \"count as num_thumbs_down\")\n",
    "ftr_num_thumbs_down.show(truncate=False)\n"
   ]
  },
  {
   "cell_type": "markdown",
   "metadata": {},
   "source": [
    "#### create feature: number of thumb up action per userId"
   ]
  },
  {
   "cell_type": "code",
   "execution_count": 46,
   "metadata": {},
   "outputs": [],
   "source": [
    "thumbs_up_event = udf(lambda x: 1.0 if x == \"Thumbs Up\" else 0.0, FloatType())"
   ]
  },
  {
   "cell_type": "code",
   "execution_count": 47,
   "metadata": {},
   "outputs": [
    {
     "name": "stdout",
     "output_type": "stream",
     "text": [
      "+----------------+---------+---------+------+-------------+--------+---------+-----+------------------------------+------+--------+-------------+---------+-----------------------------+------+-------------+---------------------------------------------------------------------------------------------------------------+------+-----+-------------+\n",
      "|artist          |auth     |firstName|gender|itemInSession|lastName|length   |level|location                      |method|page    |registration |sessionId|song                         |status|ts           |userAgent                                                                                                      |userId|churn|num_thumbs_up|\n",
      "+----------------+---------+---------+------+-------------+--------+---------+-----+------------------------------+------+--------+-------------+---------+-----------------------------+------+-------------+---------------------------------------------------------------------------------------------------------------+------+-----+-------------+\n",
      "|Martha Tilston  |Logged In|Colin    |M     |50           |Freeman |277.89016|paid |Bakersfield, CA               |PUT   |NextSong|1538173362000|29       |Rockpools                    |200   |1538352117000|Mozilla/5.0 (Windows NT 6.1; WOW64; rv:31.0) Gecko/20100101 Firefox/31.0                                       |30    |0.0  |0.0          |\n",
      "|Five Iron Frenzy|Logged In|Micah    |M     |79           |Long    |236.09424|free |Boston-Cambridge-Newton, MA-NH|PUT   |NextSong|1538331630000|8        |Canada                       |200   |1538352180000|\"Mozilla/5.0 (Windows NT 6.1; WOW64) AppleWebKit/537.36 (KHTML, like Gecko) Chrome/37.0.2062.103 Safari/537.36\"|9     |0.0  |0.0          |\n",
      "|Adam Lambert    |Logged In|Colin    |M     |51           |Freeman |282.8273 |paid |Bakersfield, CA               |PUT   |NextSong|1538173362000|29       |Time For Miracles            |200   |1538352394000|Mozilla/5.0 (Windows NT 6.1; WOW64; rv:31.0) Gecko/20100101 Firefox/31.0                                       |30    |0.0  |0.0          |\n",
      "|Enigma          |Logged In|Micah    |M     |80           |Long    |262.71302|free |Boston-Cambridge-Newton, MA-NH|PUT   |NextSong|1538331630000|8        |Knocking On Forbidden Doors  |200   |1538352416000|\"Mozilla/5.0 (Windows NT 6.1; WOW64) AppleWebKit/537.36 (KHTML, like Gecko) Chrome/37.0.2062.103 Safari/537.36\"|9     |0.0  |0.0          |\n",
      "|Daft Punk       |Logged In|Colin    |M     |52           |Freeman |223.60771|paid |Bakersfield, CA               |PUT   |NextSong|1538173362000|29       |Harder Better Faster Stronger|200   |1538352676000|Mozilla/5.0 (Windows NT 6.1; WOW64; rv:31.0) Gecko/20100101 Firefox/31.0                                       |30    |0.0  |0.0          |\n",
      "+----------------+---------+---------+------+-------------+--------+---------+-----+------------------------------+------+--------+-------------+---------+-----------------------------+------+-------------+---------------------------------------------------------------------------------------------------------------+------+-----+-------------+\n",
      "only showing top 5 rows\n",
      "\n",
      "+------+-------------+\n",
      "|userId|num_thumbs_up|\n",
      "+------+-------------+\n",
      "|100010|17           |\n",
      "|200002|21           |\n",
      "|51    |100          |\n",
      "|124   |171          |\n",
      "|7     |7            |\n",
      "|54    |163          |\n",
      "|15    |81           |\n",
      "|155   |58           |\n",
      "|132   |96           |\n",
      "|154   |11           |\n",
      "|100014|17           |\n",
      "|101   |86           |\n",
      "|11    |40           |\n",
      "|138   |95           |\n",
      "|300017|303          |\n",
      "|29    |154          |\n",
      "|69    |72           |\n",
      "|100021|11           |\n",
      "|42    |166          |\n",
      "|112   |9            |\n",
      "+------+-------------+\n",
      "only showing top 20 rows\n",
      "\n"
     ]
    }
   ],
   "source": [
    "ftr_num_thumbs_up = cleaned_df.withColumn(\"num_thumbs_up\", thumbs_up_event(\"page\"))\n",
    "ftr_num_thumbs_up.show(5, truncate=False)\n",
    "                                    \n",
    "\n",
    "ftr_num_thumbs_up = ftr_num_thumbs_up.filter(ftr_num_thumbs_up[\"num_thumbs_up\"] == 1).select([\"userId\",\"num_thumbs_up\"]).groupby([\"userId\"]).count()\n",
    "ftr_num_thumbs_up = ftr_num_thumbs_up.selectExpr(\"userId as userId\", \"count as num_thumbs_up\")\n",
    "ftr_num_thumbs_up.show(truncate=False)\n"
   ]
  },
  {
   "cell_type": "markdown",
   "metadata": {},
   "source": [
    "#### create feature: number of friends added per userId"
   ]
  },
  {
   "cell_type": "code",
   "execution_count": 48,
   "metadata": {},
   "outputs": [],
   "source": [
    "add_friends_event = udf(lambda x: 1.0 if x == \"Add Friend\" else 0.0, FloatType())"
   ]
  },
  {
   "cell_type": "code",
   "execution_count": 49,
   "metadata": {},
   "outputs": [
    {
     "name": "stdout",
     "output_type": "stream",
     "text": [
      "+----------------+---------+---------+------+-------------+--------+---------+-----+------------------------------+------+--------+-------------+---------+-----------------------------+------+-------------+---------------------------------------------------------------------------------------------------------------+------+-----+---------------+\n",
      "|artist          |auth     |firstName|gender|itemInSession|lastName|length   |level|location                      |method|page    |registration |sessionId|song                         |status|ts           |userAgent                                                                                                      |userId|churn|num_add_friends|\n",
      "+----------------+---------+---------+------+-------------+--------+---------+-----+------------------------------+------+--------+-------------+---------+-----------------------------+------+-------------+---------------------------------------------------------------------------------------------------------------+------+-----+---------------+\n",
      "|Martha Tilston  |Logged In|Colin    |M     |50           |Freeman |277.89016|paid |Bakersfield, CA               |PUT   |NextSong|1538173362000|29       |Rockpools                    |200   |1538352117000|Mozilla/5.0 (Windows NT 6.1; WOW64; rv:31.0) Gecko/20100101 Firefox/31.0                                       |30    |0.0  |0.0            |\n",
      "|Five Iron Frenzy|Logged In|Micah    |M     |79           |Long    |236.09424|free |Boston-Cambridge-Newton, MA-NH|PUT   |NextSong|1538331630000|8        |Canada                       |200   |1538352180000|\"Mozilla/5.0 (Windows NT 6.1; WOW64) AppleWebKit/537.36 (KHTML, like Gecko) Chrome/37.0.2062.103 Safari/537.36\"|9     |0.0  |0.0            |\n",
      "|Adam Lambert    |Logged In|Colin    |M     |51           |Freeman |282.8273 |paid |Bakersfield, CA               |PUT   |NextSong|1538173362000|29       |Time For Miracles            |200   |1538352394000|Mozilla/5.0 (Windows NT 6.1; WOW64; rv:31.0) Gecko/20100101 Firefox/31.0                                       |30    |0.0  |0.0            |\n",
      "|Enigma          |Logged In|Micah    |M     |80           |Long    |262.71302|free |Boston-Cambridge-Newton, MA-NH|PUT   |NextSong|1538331630000|8        |Knocking On Forbidden Doors  |200   |1538352416000|\"Mozilla/5.0 (Windows NT 6.1; WOW64) AppleWebKit/537.36 (KHTML, like Gecko) Chrome/37.0.2062.103 Safari/537.36\"|9     |0.0  |0.0            |\n",
      "|Daft Punk       |Logged In|Colin    |M     |52           |Freeman |223.60771|paid |Bakersfield, CA               |PUT   |NextSong|1538173362000|29       |Harder Better Faster Stronger|200   |1538352676000|Mozilla/5.0 (Windows NT 6.1; WOW64; rv:31.0) Gecko/20100101 Firefox/31.0                                       |30    |0.0  |0.0            |\n",
      "+----------------+---------+---------+------+-------------+--------+---------+-----+------------------------------+------+--------+-------------+---------+-----------------------------+------+-------------+---------------------------------------------------------------------------------------------------------------+------+-----+---------------+\n",
      "only showing top 5 rows\n",
      "\n",
      "+------+---------------+\n",
      "|userId|num_add_friends|\n",
      "+------+---------------+\n",
      "|100010|4              |\n",
      "|200002|4              |\n",
      "|51    |28             |\n",
      "|124   |74             |\n",
      "|7     |1              |\n",
      "|54    |33             |\n",
      "|15    |31             |\n",
      "|155   |11             |\n",
      "|132   |41             |\n",
      "|154   |3              |\n",
      "|100014|6              |\n",
      "|101   |29             |\n",
      "|11    |6              |\n",
      "|138   |41             |\n",
      "|300017|63             |\n",
      "|29    |47             |\n",
      "|69    |12             |\n",
      "|100021|7              |\n",
      "|42    |52             |\n",
      "|112   |7              |\n",
      "+------+---------------+\n",
      "only showing top 20 rows\n",
      "\n"
     ]
    }
   ],
   "source": [
    "ftr_num_add_friends = cleaned_df.withColumn(\"num_add_friends\", add_friends_event(\"page\"))\n",
    "ftr_num_add_friends.show(5, truncate=False)\n",
    "                                    \n",
    "\n",
    "ftr_num_add_friends = ftr_num_add_friends.filter(ftr_num_add_friends[\"num_add_friends\"] == 1).select([\"userId\",\"num_add_friends\"]).groupby([\"userId\"]).count()\n",
    "ftr_num_add_friends = ftr_num_add_friends.selectExpr(\"userId as userId\", \"count as num_add_friends\")\n",
    "ftr_num_add_friends.show(truncate=False)\n"
   ]
  },
  {
   "cell_type": "markdown",
   "metadata": {},
   "source": [
    "####  create featrure: number of days after initial registration per userId"
   ]
  },
  {
   "cell_type": "code",
   "execution_count": 50,
   "metadata": {},
   "outputs": [
    {
     "name": "stdout",
     "output_type": "stream",
     "text": [
      "225\n",
      "225\n",
      "+------+---------------------------+\n",
      "|userId|num_days_after_registration|\n",
      "+------+---------------------------+\n",
      "|100010|55.643658                  |\n",
      "|200002|70.07463                   |\n",
      "|125   |71.31689                   |\n",
      "|124   |131.55591                  |\n",
      "|51    |19.455845                  |\n",
      "+------+---------------------------+\n",
      "only showing top 5 rows\n",
      "\n"
     ]
    }
   ],
   "source": [
    "latest_action_df =  cleaned_df.groupBy('userId').agg(max('ts').alias('latest_action'))\n",
    "print(latest_action_df.count())\n",
    "num_days_after_registration_df = latest_action_df.join(cleaned_df, on='userId', how=\"inner\").withColumn('num_days_after_registration', ((col('latest_action')-col('registration'))/86400000).cast(FloatType())).select([\"userId\",\"num_days_after_registration\"]).dropDuplicates()\n",
    "print(num_days_after_registration_df.count())\n",
    "num_days_after_registration_df.show(5, truncate=False)"
   ]
  },
  {
   "cell_type": "markdown",
   "metadata": {},
   "source": [
    "#### create label field: churn "
   ]
  },
  {
   "cell_type": "code",
   "execution_count": 51,
   "metadata": {},
   "outputs": [
    {
     "name": "stdout",
     "output_type": "stream",
     "text": [
      "277\n",
      "+------+-----+\n",
      "|userId|label|\n",
      "+------+-----+\n",
      "|73    |0.0  |\n",
      "|19    |0.0  |\n",
      "|200007|0.0  |\n",
      "|50    |0.0  |\n",
      "|100005|0.0  |\n",
      "|200002|0.0  |\n",
      "|30    |0.0  |\n",
      "|8     |0.0  |\n",
      "|4     |0.0  |\n",
      "|106   |1.0  |\n",
      "|200018|0.0  |\n",
      "|65    |0.0  |\n",
      "|13    |0.0  |\n",
      "|29    |1.0  |\n",
      "|153   |0.0  |\n",
      "|42    |0.0  |\n",
      "|200015|1.0  |\n",
      "|94    |0.0  |\n",
      "|62    |0.0  |\n",
      "|114   |0.0  |\n",
      "+------+-----+\n",
      "only showing top 20 rows\n",
      "\n"
     ]
    }
   ],
   "source": [
    "label_churn_df = cleaned_df.select(\"userId\", \"churn\").dropDuplicates().groupby(\"userId\", \"churn\").count().drop('count')\n",
    "label_churn_df = label_churn_df.selectExpr(\"userId as userId\", \"churn as label\")\n",
    "print(label_churn_df.count())\n",
    "label_churn_df.show(truncate=False)\n"
   ]
  },
  {
   "cell_type": "code",
   "execution_count": 52,
   "metadata": {},
   "outputs": [
    {
     "name": "stdout",
     "output_type": "stream",
     "text": [
      "219\n",
      "+------+----------------+---------------+------------------+-----------------+---------------+-------------+---------------+---------------------------+------------+-----------+-----+\n",
      "|userId|num_unique_songs|num_total_songs|num_unique_artists|roll_advert_count|num_thumbs_down|num_thumbs_up|num_add_friends|num_days_after_registration|gender_value|level_value|label|\n",
      "+------+----------------+---------------+------------------+-----------------+---------------+-------------+---------------+---------------------------+------------+-----------+-----+\n",
      "|100010|269             |275            |252               |52               |5              |17           |4              |55.643658                  |0.0         |0.0        |0.0  |\n",
      "|200002|378             |387            |339               |7                |6              |21           |4              |70.07463                   |1.0         |1.0        |0.0  |\n",
      "|124   |3339            |4079           |2232              |4                |41             |171          |74             |131.55591                  |0.0         |1.0        |0.0  |\n",
      "|7     |148             |150            |142               |16               |1              |7            |1              |72.77818                   |1.0         |0.0        |0.0  |\n",
      "|15    |1707            |1914           |1302              |1                |14             |81           |31             |56.513577                  |1.0         |1.0        |0.0  |\n",
      "|54    |2414            |2841           |1744              |47               |29             |163          |33             |110.751686                 |0.0         |1.0        |1.0  |\n",
      "|54    |2414            |2841           |1744              |47               |29             |163          |33             |110.751686                 |0.0         |1.0        |0.0  |\n",
      "|155   |759             |820            |643               |8                |3              |58           |11             |23.556019                  |0.0         |1.0        |0.0  |\n",
      "|100014|248             |257            |233               |2                |3              |17           |6              |85.083405                  |1.0         |1.0        |1.0  |\n",
      "|100014|248             |257            |233               |2                |3              |17           |6              |85.083405                  |1.0         |1.0        |0.0  |\n",
      "|132   |1718            |1928           |1299              |2                |17             |96           |41             |66.88911                   |0.0         |1.0        |0.0  |\n",
      "|101   |1608            |1797           |1241              |8                |16             |86           |29             |53.96594                   |1.0         |1.0        |0.0  |\n",
      "|101   |1608            |1797           |1241              |8                |16             |86           |29             |53.96594                   |1.0         |1.0        |1.0  |\n",
      "|11    |616             |647            |534               |39               |9              |40           |6              |124.47825                  |0.0         |1.0        |0.0  |\n",
      "|138   |1791            |2070           |1332              |17               |24             |95           |41             |66.626686                  |1.0         |1.0        |0.0  |\n",
      "|300017|3013            |3632           |2070              |11               |28             |303          |63             |74.35852                   |0.0         |1.0        |0.0  |\n",
      "|100021|226             |230            |207               |30               |5              |11           |7              |64.73887                   |1.0         |0.0        |0.0  |\n",
      "|100021|226             |230            |207               |30               |5              |11           |7              |64.73887                   |1.0         |0.0        |1.0  |\n",
      "|29    |2562            |3028           |1804              |22               |22             |154          |47             |60.10405                   |1.0         |1.0        |1.0  |\n",
      "|29    |2562            |3028           |1804              |22               |22             |154          |47             |60.10405                   |1.0         |1.0        |0.0  |\n",
      "+------+----------------+---------------+------------------+-----------------+---------------+-------------+---------------+---------------------------+------------+-----------+-----+\n",
      "only showing top 20 rows\n",
      "\n"
     ]
    }
   ],
   "source": [
    "features_df = ftr_num_unique_songs \\\n",
    "                .join(ftr_num_total_songs, [\"userId\"]) \\\n",
    "                .join(ftr_num_unique_artists, [\"userId\"]) \\\n",
    "                .join(ftr_num_ads, [\"userId\"]) \\\n",
    "                .join(ftr_num_thumbs_down, [\"userId\"]) \\\n",
    "                .join(ftr_num_thumbs_up, [\"userId\"]) \\\n",
    "                .join(ftr_num_add_friends, [\"userId\"]) \\\n",
    "                .join(num_days_after_registration_df, [\"userId\"]) \\\n",
    "                .join(ftr_gender, [\"userId\"]) \\\n",
    "                .join(ftr_level, [\"userId\"]) \\\n",
    "                .join(label_churn_df, [\"userId\"]) \\\n",
    "                \n",
    "\n",
    "print(features_df.count())\n",
    "features_df.show(truncate=False)\n",
    "\n",
    "\n"
   ]
  },
  {
   "cell_type": "markdown",
   "metadata": {},
   "source": []
  },
  {
   "cell_type": "code",
   "execution_count": 53,
   "metadata": {},
   "outputs": [
    {
     "name": "stdout",
     "output_type": "stream",
     "text": [
      "+----------------+---------------+------------------+-----------------+---------------+-------------+---------------+---------------------------+------------+-----------+-----+\n",
      "|num_unique_songs|num_total_songs|num_unique_artists|roll_advert_count|num_thumbs_down|num_thumbs_up|num_add_friends|num_days_after_registration|gender_value|level_value|label|\n",
      "+----------------+---------------+------------------+-----------------+---------------+-------------+---------------+---------------------------+------------+-----------+-----+\n",
      "|269             |275            |252               |52               |5              |17           |4              |55.643658                  |0.0         |0.0        |0.0  |\n",
      "|378             |387            |339               |7                |6              |21           |4              |70.07463                   |1.0         |1.0        |0.0  |\n",
      "|3339            |4079           |2232              |4                |41             |171          |74             |131.55591                  |0.0         |1.0        |0.0  |\n",
      "|148             |150            |142               |16               |1              |7            |1              |72.77818                   |1.0         |0.0        |0.0  |\n",
      "|1707            |1914           |1302              |1                |14             |81           |31             |56.513577                  |1.0         |1.0        |0.0  |\n",
      "|2414            |2841           |1744              |47               |29             |163          |33             |110.751686                 |0.0         |1.0        |1.0  |\n",
      "|2414            |2841           |1744              |47               |29             |163          |33             |110.751686                 |0.0         |1.0        |0.0  |\n",
      "|759             |820            |643               |8                |3              |58           |11             |23.556019                  |0.0         |1.0        |0.0  |\n",
      "|248             |257            |233               |2                |3              |17           |6              |85.083405                  |1.0         |1.0        |1.0  |\n",
      "|248             |257            |233               |2                |3              |17           |6              |85.083405                  |1.0         |1.0        |0.0  |\n",
      "|1718            |1928           |1299              |2                |17             |96           |41             |66.88911                   |0.0         |1.0        |0.0  |\n",
      "|1608            |1797           |1241              |8                |16             |86           |29             |53.96594                   |1.0         |1.0        |0.0  |\n",
      "|1608            |1797           |1241              |8                |16             |86           |29             |53.96594                   |1.0         |1.0        |1.0  |\n",
      "|616             |647            |534               |39               |9              |40           |6              |124.47825                  |0.0         |1.0        |0.0  |\n",
      "|1791            |2070           |1332              |17               |24             |95           |41             |66.626686                  |1.0         |1.0        |0.0  |\n",
      "|3013            |3632           |2070              |11               |28             |303          |63             |74.35852                   |0.0         |1.0        |0.0  |\n",
      "|226             |230            |207               |30               |5              |11           |7              |64.73887                   |1.0         |0.0        |0.0  |\n",
      "|226             |230            |207               |30               |5              |11           |7              |64.73887                   |1.0         |0.0        |1.0  |\n",
      "|2562            |3028           |1804              |22               |22             |154          |47             |60.10405                   |1.0         |1.0        |1.0  |\n",
      "|2562            |3028           |1804              |22               |22             |154          |47             |60.10405                   |1.0         |1.0        |0.0  |\n",
      "+----------------+---------------+------------------+-----------------+---------------+-------------+---------------+---------------------------+------------+-----------+-----+\n",
      "only showing top 20 rows\n",
      "\n"
     ]
    }
   ],
   "source": [
    "features_df =features_df.drop(\"userId\")\n",
    "features_df.show(truncate=False)"
   ]
  },
  {
   "cell_type": "markdown",
   "metadata": {},
   "source": [
    "# Modeling\n",
    "Split the full dataset into train, test, and validation sets. Test out several of the machine learning methods you learned. Evaluate the accuracy of the various models, tuning parameters as necessary. Determine your winning model based on test accuracy and report results on the validation set. Since the churned users are a fairly small subset, I suggest using F1 score as the metric to optimize."
   ]
  },
  {
   "cell_type": "markdown",
   "metadata": {},
   "source": [
    "### convert features to vectors and then scale them to standard normal before training the model"
   ]
  },
  {
   "cell_type": "code",
   "execution_count": 54,
   "metadata": {},
   "outputs": [
    {
     "name": "stdout",
     "output_type": "stream",
     "text": [
      "+----------------+---------------+------------------+-----------------+---------------+-------------+---------------+---------------------------+------------+-----------+-----+---------------------------------------------------------------------+\n",
      "|num_unique_songs|num_total_songs|num_unique_artists|roll_advert_count|num_thumbs_down|num_thumbs_up|num_add_friends|num_days_after_registration|gender_value|level_value|label|vector_features                                                      |\n",
      "+----------------+---------------+------------------+-----------------+---------------+-------------+---------------+---------------------------+------------+-----------+-----+---------------------------------------------------------------------+\n",
      "|269             |275            |252               |52               |5              |17           |4              |55.643658                  |0.0         |0.0        |0.0  |[269.0,275.0,252.0,52.0,5.0,17.0,4.0,55.64365768432617,0.0,0.0]      |\n",
      "|378             |387            |339               |7                |6              |21           |4              |70.07463                   |1.0         |1.0        |0.0  |[378.0,387.0,339.0,7.0,6.0,21.0,4.0,70.07463073730469,1.0,1.0]       |\n",
      "|3339            |4079           |2232              |4                |41             |171          |74             |131.55591                  |0.0         |1.0        |0.0  |[3339.0,4079.0,2232.0,4.0,41.0,171.0,74.0,131.555908203125,0.0,1.0]  |\n",
      "|148             |150            |142               |16               |1              |7            |1              |72.77818                   |1.0         |0.0        |0.0  |[148.0,150.0,142.0,16.0,1.0,7.0,1.0,72.77818298339844,1.0,0.0]       |\n",
      "|1707            |1914           |1302              |1                |14             |81           |31             |56.513577                  |1.0         |1.0        |0.0  |[1707.0,1914.0,1302.0,1.0,14.0,81.0,31.0,56.51357650756836,1.0,1.0]  |\n",
      "|2414            |2841           |1744              |47               |29             |163          |33             |110.751686                 |0.0         |1.0        |1.0  |[2414.0,2841.0,1744.0,47.0,29.0,163.0,33.0,110.7516860961914,0.0,1.0]|\n",
      "|2414            |2841           |1744              |47               |29             |163          |33             |110.751686                 |0.0         |1.0        |0.0  |[2414.0,2841.0,1744.0,47.0,29.0,163.0,33.0,110.7516860961914,0.0,1.0]|\n",
      "|759             |820            |643               |8                |3              |58           |11             |23.556019                  |0.0         |1.0        |0.0  |[759.0,820.0,643.0,8.0,3.0,58.0,11.0,23.556018829345703,0.0,1.0]     |\n",
      "|248             |257            |233               |2                |3              |17           |6              |85.083405                  |1.0         |1.0        |1.0  |[248.0,257.0,233.0,2.0,3.0,17.0,6.0,85.08340454101562,1.0,1.0]       |\n",
      "|248             |257            |233               |2                |3              |17           |6              |85.083405                  |1.0         |1.0        |0.0  |[248.0,257.0,233.0,2.0,3.0,17.0,6.0,85.08340454101562,1.0,1.0]       |\n",
      "|1718            |1928           |1299              |2                |17             |96           |41             |66.88911                   |0.0         |1.0        |0.0  |[1718.0,1928.0,1299.0,2.0,17.0,96.0,41.0,66.88910675048828,0.0,1.0]  |\n",
      "|1608            |1797           |1241              |8                |16             |86           |29             |53.96594                   |1.0         |1.0        |0.0  |[1608.0,1797.0,1241.0,8.0,16.0,86.0,29.0,53.965938568115234,1.0,1.0] |\n",
      "|1608            |1797           |1241              |8                |16             |86           |29             |53.96594                   |1.0         |1.0        |1.0  |[1608.0,1797.0,1241.0,8.0,16.0,86.0,29.0,53.965938568115234,1.0,1.0] |\n",
      "|616             |647            |534               |39               |9              |40           |6              |124.47825                  |0.0         |1.0        |0.0  |[616.0,647.0,534.0,39.0,9.0,40.0,6.0,124.4782485961914,0.0,1.0]      |\n",
      "|1791            |2070           |1332              |17               |24             |95           |41             |66.626686                  |1.0         |1.0        |0.0  |[1791.0,2070.0,1332.0,17.0,24.0,95.0,41.0,66.6266860961914,1.0,1.0]  |\n",
      "|3013            |3632           |2070              |11               |28             |303          |63             |74.35852                   |0.0         |1.0        |0.0  |[3013.0,3632.0,2070.0,11.0,28.0,303.0,63.0,74.3585205078125,0.0,1.0] |\n",
      "|226             |230            |207               |30               |5              |11           |7              |64.73887                   |1.0         |0.0        |0.0  |[226.0,230.0,207.0,30.0,5.0,11.0,7.0,64.7388687133789,1.0,0.0]       |\n",
      "|226             |230            |207               |30               |5              |11           |7              |64.73887                   |1.0         |0.0        |1.0  |[226.0,230.0,207.0,30.0,5.0,11.0,7.0,64.7388687133789,1.0,0.0]       |\n",
      "|2562            |3028           |1804              |22               |22             |154          |47             |60.10405                   |1.0         |1.0        |1.0  |[2562.0,3028.0,1804.0,22.0,22.0,154.0,47.0,60.10404968261719,1.0,1.0]|\n",
      "|2562            |3028           |1804              |22               |22             |154          |47             |60.10405                   |1.0         |1.0        |0.0  |[2562.0,3028.0,1804.0,22.0,22.0,154.0,47.0,60.10404968261719,1.0,1.0]|\n",
      "+----------------+---------------+------------------+-----------------+---------------+-------------+---------------+---------------------------+------------+-----------+-----+---------------------------------------------------------------------+\n",
      "only showing top 20 rows\n",
      "\n"
     ]
    }
   ],
   "source": [
    "\n",
    "assembler = VectorAssembler(inputCols = [\"num_unique_songs\", \"num_total_songs\", \"num_unique_artists\", \"roll_advert_count\", \"num_thumbs_down\", \"num_thumbs_up\", \"num_add_friends\", \"num_days_after_registration\", \"gender_value\", \"level_value\"], outputCol = \"vector_features\")\n",
    "features_df = assembler.transform(features_df)\n",
    "features_df.show(truncate=False)"
   ]
  },
  {
   "cell_type": "code",
   "execution_count": null,
   "metadata": {},
   "outputs": [],
   "source": []
  },
  {
   "cell_type": "code",
   "execution_count": 55,
   "metadata": {},
   "outputs": [
    {
     "name": "stdout",
     "output_type": "stream",
     "text": [
      "+----------------+---------------+------------------+-----------------+---------------+-------------+---------------+---------------------------+------------+-----------+-----+---------------------------------------------------------------------+--------------------------------------------------------------------------------------------------------------------------------------------------------------------------------------------------+\n",
      "|num_unique_songs|num_total_songs|num_unique_artists|roll_advert_count|num_thumbs_down|num_thumbs_up|num_add_friends|num_days_after_registration|gender_value|level_value|label|vector_features                                                      |features                                                                                                                                                                                          |\n",
      "+----------------+---------------+------------------+-----------------+---------------+-------------+---------------+---------------------------+------------+-----------+-----+---------------------------------------------------------------------+--------------------------------------------------------------------------------------------------------------------------------------------------------------------------------------------------+\n",
      "|269             |275            |252               |52               |5              |17           |4              |55.643658                  |0.0         |0.0        |0.0  |[269.0,275.0,252.0,52.0,5.0,17.0,4.0,55.64365768432617,0.0,0.0]      |[0.30715009242980335,0.2528324992580481,0.4337537621110037,2.2771658869589753,0.38895165463107806,0.26123342602809235,0.1997200706002061,1.4599989401407343,0.0,0.0]                              |\n",
      "|378             |387            |339               |7                |6              |21           |4              |70.07463                   |1.0         |1.0        |0.0  |[378.0,387.0,339.0,7.0,6.0,21.0,4.0,70.07463073730469,1.0,1.0]       |[0.4316086800686456,0.3558042807740532,0.5835020847445644,0.3065415617060159,0.4667419855572936,0.3227001145052905,0.1997200706002061,1.8386441665576696,2.000125687352834,2.1743658625763724]    |\n",
      "|3339            |4079           |2232              |4                |41             |171          |74             |131.55591                  |0.0         |1.0        |0.0  |[3339.0,4079.0,2232.0,4.0,41.0,171.0,74.0,131.555908203125,0.0,1.0]  |[3.8125433406063696,3.750195507176648,3.8418190358403184,0.17516660668915193,3.18940356797484,2.6277009324002227,3.694821306103813,3.451812740913999,0.0,2.1743658625763724]                      |\n",
      "|148             |150            |142               |16               |1              |7            |1              |72.77818                   |1.0         |0.0        |0.0  |[148.0,150.0,142.0,16.0,1.0,7.0,1.0,72.77818298339844,1.0,0.0]       |[0.16898964193163904,0.13790863595893532,0.24441680245937508,0.7006664267566077,0.07779033092621561,0.10756670483509684,0.04993001765005153,1.9095809737011695,2.000125687352834,0.0]             |\n",
      "|1707            |1914           |1302              |1                |14             |81           |31             |56.513577                  |1.0         |1.0        |0.0  |[1707.0,1914.0,1302.0,1.0,14.0,81.0,31.0,56.51357650756836,1.0,1.0]  |[1.9490899917385665,1.7597141948360149,2.2410611042401856,0.04379165167228798,1.0890646329670186,1.2447004416632634,1.5478305471515974,1.4828241930589985,2.000125687352834,2.1743658625763724]   |\n",
      "|2414            |2841           |1744              |47               |29             |163          |33             |110.751686                 |0.0         |1.0        |1.0  |[2414.0,2841.0,1744.0,47.0,29.0,163.0,33.0,110.7516860961914,0.0,1.0]|[2.756358078533626,2.611989565062235,3.001851433022184,2.0582076285975353,2.255919596860253,2.5047675554458264,1.6476905824517003,2.9059438406542064,0.0,2.1743658625763724]                      |\n",
      "|2414            |2841           |1744              |47               |29             |163          |33             |110.751686                 |0.0         |1.0        |0.0  |[2414.0,2841.0,1744.0,47.0,29.0,163.0,33.0,110.7516860961914,0.0,1.0]|[2.756358078533626,2.611989565062235,3.001851433022184,2.0582076285975353,2.255919596860253,2.5047675554458264,1.6476905824517003,2.9059438406542064,0.0,2.1743658625763724]                      |\n",
      "|759             |820            |643               |8                |3              |58           |11             |23.556019                  |0.0         |1.0        |0.0  |[759.0,820.0,643.0,8.0,3.0,58.0,11.0,23.556018829345703,0.0,1.0]     |[0.8666428258521218,0.7539005432421798,1.1067605914181562,0.35033321337830386,0.2333709927786468,0.8912669829193739,0.5492301941505668,0.6180715638768559,0.0,2.1743658625763724]                 |\n",
      "|248             |257            |233               |2                |3              |17           |6              |85.083405                  |1.0         |1.0        |1.0  |[248.0,257.0,233.0,2.0,3.0,17.0,6.0,85.08340454101562,1.0,1.0]       |[0.2831718324259897,0.23628346294297586,0.4010501054439042,0.08758330334457597,0.2333709927786468,0.26123342602809235,0.29958010590030915,2.2324499434989367,2.000125687352834,2.1743658625763724]|\n",
      "|248             |257            |233               |2                |3              |17           |6              |85.083405                  |1.0         |1.0        |0.0  |[248.0,257.0,233.0,2.0,3.0,17.0,6.0,85.08340454101562,1.0,1.0]       |[0.2831718324259897,0.23628346294297586,0.4010501054439042,0.08758330334457597,0.2333709927786468,0.26123342602809235,0.29958010590030915,2.2324499434989367,2.000125687352834,2.1743658625763724]|\n",
      "|1718            |1928           |1299              |2                |17             |96           |41             |66.88911                   |0.0         |1.0        |0.0  |[1718.0,1928.0,1299.0,2.0,17.0,96.0,41.0,66.88910675048828,0.0,1.0]  |[1.961650032692945,1.7725856675255154,2.2358973689769592,0.08758330334457597,1.3224356257456653,1.4752005234527568,2.0471307236521126,1.7550612060174082,0.0,2.1743658625763724]                  |\n",
      "|1608            |1797           |1241              |8                |16             |86           |29             |53.96594                   |1.0         |1.0        |0.0  |[1608.0,1797.0,1241.0,8.0,16.0,86.0,29.0,53.965938568115234,1.0,1.0] |[1.8360496231491592,1.6521454587880453,2.1360651538879187,0.35033321337830386,1.2446452948194497,1.3215338022597611,1.4479705118514943,1.4159783233542178,2.000125687352834,2.1743658625763724]   |\n",
      "|1608            |1797           |1241              |8                |16             |86           |29             |53.96594                   |1.0         |1.0        |1.0  |[1608.0,1797.0,1241.0,8.0,16.0,86.0,29.0,53.965938568115234,1.0,1.0] |[1.8360496231491592,1.6521454587880453,2.1360651538879187,0.35033321337830386,1.2446452948194497,1.3215338022597611,1.4479705118514943,1.4159783233542178,2.000125687352834,2.1743658625763724]   |\n",
      "|616             |647            |534               |39               |9              |40           |6              |124.47825                  |0.0         |1.0        |0.0  |[616.0,647.0,534.0,39.0,9.0,40.0,6.0,124.4782485961914,0.0,1.0]      |[0.7033622934452003,0.5948459164362078,0.9191448768542697,1.7078744152192313,0.7001129783359404,0.614666884771982,0.29958010590030915,3.266106481569537,0.0,2.1743658625763724]                   |\n",
      "|1791            |2070           |1332              |17               |24             |95           |41             |66.626686                  |1.0         |1.0        |0.0  |[1791.0,2070.0,1332.0,17.0,24.0,95.0,41.0,66.6266860961914,1.0,1.0]  |[2.045003031753821,1.9031391762333076,2.292698456872448,0.7444580784288957,1.8669679422291745,1.4598338513334572,2.0471307236521126,1.748175715503502,2.000125687352834,2.1743658625763724]       |\n",
      "|3013            |3632           |2070              |11               |28             |303          |63             |74.35852                   |0.0         |1.0        |0.0  |[3013.0,3632.0,2070.0,11.0,28.0,303.0,63.0,74.3585205078125,0.0,1.0] |[3.4403093995947867,3.339227772019021,3.5629773316261018,0.48170816839516784,2.178129265934037,4.656101652147763,3.1455911119532463,1.9510464561430092,0.0,2.1743658625763724]                    |\n",
      "|226             |230            |207               |30               |5              |11           |7              |64.73887                   |1.0         |0.0        |0.0  |[226.0,230.0,207.0,30.0,5.0,11.0,7.0,64.7388687133789,1.0,0.0]       |[0.25805175051723256,0.2114599084703675,0.35629773316261015,1.3137495501686396,0.38895165463107806,0.16903339331229503,0.3495101235503607,1.6986424624286978,2.000125687352834,0.0]               |\n",
      "|226             |230            |207               |30               |5              |11           |7              |64.73887                   |1.0         |0.0        |1.0  |[226.0,230.0,207.0,30.0,5.0,11.0,7.0,64.7388687133789,1.0,0.0]       |[0.25805175051723256,0.2114599084703675,0.35629773316261015,1.3137495501686396,0.38895165463107806,0.16903339331229503,0.3495101235503607,1.6986424624286978,2.000125687352834,0.0]               |\n",
      "|2562            |3028           |1804              |22               |22             |154          |47             |60.10405                   |1.0         |1.0        |1.0  |[2562.0,3028.0,1804.0,22.0,22.0,154.0,47.0,60.10404968261719,1.0,1.0]|[2.9253477204652647,2.783915664557708,3.105126138286709,0.9634163367903357,1.7113872803767434,2.3664675063721305,2.3467108295524217,1.5770323606800791,2.000125687352834,2.1743658625763724]      |\n",
      "|2562            |3028           |1804              |22               |22             |154          |47             |60.10405                   |1.0         |1.0        |0.0  |[2562.0,3028.0,1804.0,22.0,22.0,154.0,47.0,60.10404968261719,1.0,1.0]|[2.9253477204652647,2.783915664557708,3.105126138286709,0.9634163367903357,1.7113872803767434,2.3664675063721305,2.3467108295524217,1.5770323606800791,2.000125687352834,2.1743658625763724]      |\n",
      "+----------------+---------------+------------------+-----------------+---------------+-------------+---------------+---------------------------+------------+-----------+-----+---------------------------------------------------------------------+--------------------------------------------------------------------------------------------------------------------------------------------------------------------------------------------------+\n",
      "only showing top 20 rows\n",
      "\n"
     ]
    }
   ],
   "source": [
    "scaler = StandardScaler(inputCol=\"vector_features\", outputCol=\"features\", withStd=True)\n",
    "scaler_model = scaler.fit(features_df)\n",
    "features_df = scaler_model.transform(features_df)\n",
    "features_df.show(truncate=False)"
   ]
  },
  {
   "cell_type": "code",
   "execution_count": 56,
   "metadata": {},
   "outputs": [
    {
     "name": "stdout",
     "output_type": "stream",
     "text": [
      "219\n"
     ]
    }
   ],
   "source": [
    "print(features_df.count())"
   ]
  },
  {
   "cell_type": "markdown",
   "metadata": {},
   "source": [
    "### Stratify sample the train, valid and test dataset for imbalanced churn prediction"
   ]
  },
  {
   "cell_type": "markdown",
   "metadata": {},
   "source": [
    "- Train and validation split together form 60% of the dataset (train is 60% and validation is 40%)\n",
    "- Test forms 40% of the dataset"
   ]
  },
  {
   "cell_type": "code",
   "execution_count": 57,
   "metadata": {},
   "outputs": [
    {
     "name": "stdout",
     "output_type": "stream",
     "text": [
      "Train and validation data count: 124\n",
      "+-----+-----+\n",
      "|label|count|\n",
      "+-----+-----+\n",
      "|1.0  |18   |\n",
      "|0.0  |106  |\n",
      "+-----+-----+\n",
      "\n"
     ]
    }
   ],
   "source": [
    "train_valid_df = features_df.stat.sampleBy(\"label\", fractions={0: 0.6, 1: 0.4}, seed = 41)\n",
    "print(f\"Train and validation data count: {str(train_valid_df.count())}\")\n",
    "train_valid_df.groupby(\"label\").count().show(truncate=False)\n"
   ]
  },
  {
   "cell_type": "code",
   "execution_count": 68,
   "metadata": {},
   "outputs": [
    {
     "name": "stdout",
     "output_type": "stream",
     "text": [
      "Train data count: 104\n",
      "+-----+-----+\n",
      "|label|count|\n",
      "+-----+-----+\n",
      "|1.0  |11   |\n",
      "|0.0  |93   |\n",
      "+-----+-----+\n",
      "\n"
     ]
    }
   ],
   "source": [
    "train = train_valid_df.stat.sampleBy(\"label\", fractions={0: 0.6, 1: 0.4}, seed = 41)\n",
    "print(f\"Train data count: {str(train.count())}\")\n",
    "train.groupby(\"label\").count().show(truncate=False)"
   ]
  },
  {
   "cell_type": "code",
   "execution_count": 69,
   "metadata": {},
   "outputs": [
    {
     "name": "stdout",
     "output_type": "stream",
     "text": [
      "Valid data count: 20\n",
      "+-----+-----+\n",
      "|label|count|\n",
      "+-----+-----+\n",
      "|1.0  |7    |\n",
      "|0.0  |13   |\n",
      "+-----+-----+\n",
      "\n"
     ]
    }
   ],
   "source": [
    "valid = train_valid_df.subtract(train)\n",
    "print(f\"Valid data count: {str(valid.count())}\")\n",
    "valid.groupby(\"label\").count().show(truncate=False)"
   ]
  },
  {
   "cell_type": "code",
   "execution_count": 70,
   "metadata": {},
   "outputs": [
    {
     "name": "stdout",
     "output_type": "stream",
     "text": [
      "Test data count: 95\n",
      "+-----+-----+\n",
      "|label|count|\n",
      "+-----+-----+\n",
      "|1.0  |23   |\n",
      "|0.0  |72   |\n",
      "+-----+-----+\n",
      "\n"
     ]
    }
   ],
   "source": [
    "test = features_df.subtract(train_valid_df)\n",
    "print(f\"Test data count: {str(test.count())}\")\n",
    "test.groupby(\"label\").count().show(truncate=False)"
   ]
  },
  {
   "cell_type": "markdown",
   "metadata": {},
   "source": [
    "#### Model Selection"
   ]
  },
  {
   "cell_type": "code",
   "execution_count": 71,
   "metadata": {},
   "outputs": [],
   "source": [
    "lr = LogisticRegression(featuresCol = 'features', labelCol = 'label', maxIter=50)\n",
    "dt = DecisionTreeClassifier(featuresCol = 'features', labelCol = 'label', seed=9)\n",
    "rf = RandomForestClassifier(featuresCol = 'features', labelCol = 'label', seed=9)\n",
    "gbt = GBTClassifier(featuresCol = 'features', labelCol = 'label', maxIter=10, seed=9)"
   ]
  },
  {
   "cell_type": "code",
   "execution_count": 72,
   "metadata": {},
   "outputs": [],
   "source": [
    "models = [lr,dt,rf,gbt]"
   ]
  },
  {
   "cell_type": "code",
   "execution_count": 73,
   "metadata": {},
   "outputs": [],
   "source": [
    "evaluator = MulticlassClassificationEvaluator(labelCol = 'label', predictionCol='prediction')"
   ]
  },
  {
   "cell_type": "markdown",
   "metadata": {},
   "source": [
    "Use the train and validation data to identify which model performs well amongst the ones which are chosen"
   ]
  },
  {
   "cell_type": "code",
   "execution_count": 74,
   "metadata": {},
   "outputs": [
    {
     "name": "stdout",
     "output_type": "stream",
     "text": [
      "Start Training >>>> <class 'pyspark.ml.classification.LogisticRegression'>\n",
      "Start Prediction >>>> <class 'pyspark.ml.classification.LogisticRegressionModel'>\n",
      "F1 for <class 'pyspark.ml.classification.LogisticRegressionModel'> is: 0.5121212121212122\n",
      "<class 'pyspark.ml.classification.LogisticRegressionModel'> Accuracy = 0.65\n",
      "-------------------------------------------------------------\n",
      "Start Training >>>> <class 'pyspark.ml.classification.DecisionTreeClassifier'>\n",
      "Start Prediction >>>> <class 'pyspark.ml.classification.DecisionTreeClassificationModel'>\n",
      "F1 for <class 'pyspark.ml.classification.DecisionTreeClassificationModel'> is: 0.5121212121212122\n",
      "<class 'pyspark.ml.classification.DecisionTreeClassificationModel'> Accuracy = 0.65\n",
      "-------------------------------------------------------------\n",
      "Start Training >>>> <class 'pyspark.ml.classification.RandomForestClassifier'>\n",
      "Start Prediction >>>> <class 'pyspark.ml.classification.RandomForestClassificationModel'>\n",
      "F1 for <class 'pyspark.ml.classification.RandomForestClassificationModel'> is: 0.5121212121212122\n",
      "<class 'pyspark.ml.classification.RandomForestClassificationModel'> Accuracy = 0.65\n",
      "-------------------------------------------------------------\n",
      "Start Training >>>> <class 'pyspark.ml.classification.GBTClassifier'>\n",
      "Start Prediction >>>> <class 'pyspark.ml.classification.GBTClassificationModel'>\n",
      "F1 for <class 'pyspark.ml.classification.GBTClassificationModel'> is: 0.5121212121212122\n",
      "<class 'pyspark.ml.classification.GBTClassificationModel'> Accuracy = 0.65\n",
      "-------------------------------------------------------------\n",
      "CPU times: user 8.53 s, sys: 2.8 s, total: 11.3 s\n",
      "Wall time: 35min 42s\n"
     ]
    }
   ],
   "source": [
    "%%time\n",
    "for model in models:\n",
    "    print(f'Start Training >>>> {type(model)}')\n",
    "    model = model.fit(train)\n",
    "    \n",
    "    print(f'Start Prediction >>>> {type(model)}')\n",
    "    predictions = model.transform(valid)\n",
    "    \n",
    "    print(f'F1 for {type(model)} is: {evaluator.evaluate(predictions, {evaluator.metricName: \"f1\"})}')\n",
    "    accuracy = predictions.filter(predictions.label == predictions.prediction).count() / (predictions.count())\n",
    "    print(f\"{type(model)} Accuracy = {accuracy}\")\n",
    "    print(\"-------------------------------------------------------------\")"
   ]
  },
  {
   "cell_type": "markdown",
   "metadata": {},
   "source": [
    "#### Selected Model Tuning"
   ]
  },
  {
   "cell_type": "code",
   "execution_count": 75,
   "metadata": {},
   "outputs": [],
   "source": [
    "paramsGrid = ParamGridBuilder() \\\n",
    "    .addGrid(rf.numTrees,[25, 50]) \\\n",
    "    .addGrid(rf.maxDepth,[5, 10]) \\\n",
    "    .build()\n",
    "\n",
    "\n",
    "crossval = CrossValidator(estimator=rf,\n",
    "                          estimatorParamMaps=paramsGrid,\n",
    "                          evaluator=MulticlassClassificationEvaluator(metricName = \"f1\"),\n",
    "                          numFolds=5)"
   ]
  },
  {
   "cell_type": "code",
   "execution_count": 76,
   "metadata": {},
   "outputs": [
    {
     "name": "stdout",
     "output_type": "stream",
     "text": [
      "CPU times: user 11.5 s, sys: 3.24 s, total: 14.8 s\n",
      "Wall time: 33min 31s\n"
     ]
    }
   ],
   "source": [
    "%%time\n",
    "cvModel = crossval.fit(train)"
   ]
  },
  {
   "cell_type": "code",
   "execution_count": 77,
   "metadata": {},
   "outputs": [
    {
     "data": {
      "text/plain": [
       "[0.8324460363484752,\n",
       " 0.8263854302878693,\n",
       " 0.8173427518108368,\n",
       " 0.8112821457502307]"
      ]
     },
     "execution_count": 77,
     "metadata": {},
     "output_type": "execute_result"
    }
   ],
   "source": [
    "cvModel.avgMetrics"
   ]
  },
  {
   "cell_type": "markdown",
   "metadata": {},
   "source": [
    "#### Used the tuned-model for final prediction on test data"
   ]
  },
  {
   "cell_type": "code",
   "execution_count": 78,
   "metadata": {},
   "outputs": [],
   "source": [
    "results = cvModel.transform(test)"
   ]
  },
  {
   "cell_type": "code",
   "execution_count": 79,
   "metadata": {},
   "outputs": [
    {
     "name": "stdout",
     "output_type": "stream",
     "text": [
      "0.7368421052631579\n"
     ]
    }
   ],
   "source": [
    "accuracy = results.filter(results.label == results.prediction).count() / (results.count())\n",
    "print(accuracy)"
   ]
  },
  {
   "cell_type": "code",
   "execution_count": 80,
   "metadata": {},
   "outputs": [
    {
     "name": "stdout",
     "output_type": "stream",
     "text": [
      "F1 for <class 'pyspark.ml.tuning.CrossValidatorModel'> is: 0.6430622009569379\n"
     ]
    }
   ],
   "source": [
    "print(f'F1 for {type(cvModel)} is: {evaluator.evaluate(results, {evaluator.metricName: \"f1\"})}')"
   ]
  },
  {
   "cell_type": "code",
   "execution_count": 82,
   "metadata": {},
   "outputs": [
    {
     "name": "stdout",
     "output_type": "stream",
     "text": [
      "Recall for <class 'pyspark.ml.tuning.CrossValidatorModel'> is: 0.7368421052631579\n"
     ]
    }
   ],
   "source": [
    "print(f'Recall for {type(cvModel)} is: {evaluator.evaluate(results, {evaluator.metricName: \"weightedRecall\"})}')"
   ]
  },
  {
   "cell_type": "code",
   "execution_count": 83,
   "metadata": {},
   "outputs": [
    {
     "name": "stdout",
     "output_type": "stream",
     "text": [
      "Precision for <class 'pyspark.ml.tuning.CrossValidatorModel'> is: 0.5704584040747029\n"
     ]
    }
   ],
   "source": [
    "print(f'Precision for {type(cvModel)} is: {evaluator.evaluate(results, {evaluator.metricName: \"weightedPrecision\"})}')"
   ]
  },
  {
   "cell_type": "markdown",
   "metadata": {},
   "source": [
    "# Final Steps\n",
    "Clean up your code, adding comments and renaming variables to make the code easier to read and maintain. Refer to the Spark Project Overview page and Data Scientist Capstone Project Rubric to make sure you are including all components of the capstone project and meet all expectations. Remember, this includes thorough documentation in a README file in a Github repository, as well as a web app or blog post."
   ]
  },
  {
   "cell_type": "code",
   "execution_count": null,
   "metadata": {},
   "outputs": [],
   "source": []
  },
  {
   "cell_type": "code",
   "execution_count": null,
   "metadata": {},
   "outputs": [],
   "source": []
  },
  {
   "cell_type": "code",
   "execution_count": null,
   "metadata": {},
   "outputs": [],
   "source": []
  },
  {
   "cell_type": "code",
   "execution_count": null,
   "metadata": {},
   "outputs": [],
   "source": []
  },
  {
   "cell_type": "code",
   "execution_count": null,
   "metadata": {},
   "outputs": [],
   "source": []
  },
  {
   "cell_type": "code",
   "execution_count": null,
   "metadata": {},
   "outputs": [],
   "source": []
  },
  {
   "cell_type": "code",
   "execution_count": null,
   "metadata": {},
   "outputs": [],
   "source": []
  },
  {
   "cell_type": "code",
   "execution_count": null,
   "metadata": {},
   "outputs": [],
   "source": []
  },
  {
   "cell_type": "code",
   "execution_count": null,
   "metadata": {},
   "outputs": [],
   "source": []
  },
  {
   "cell_type": "code",
   "execution_count": null,
   "metadata": {},
   "outputs": [],
   "source": []
  },
  {
   "cell_type": "code",
   "execution_count": null,
   "metadata": {},
   "outputs": [],
   "source": []
  },
  {
   "cell_type": "code",
   "execution_count": null,
   "metadata": {},
   "outputs": [],
   "source": []
  },
  {
   "cell_type": "code",
   "execution_count": null,
   "metadata": {},
   "outputs": [],
   "source": []
  },
  {
   "cell_type": "code",
   "execution_count": null,
   "metadata": {},
   "outputs": [],
   "source": []
  }
 ],
 "metadata": {
  "kernelspec": {
   "display_name": "Python 3",
   "language": "python",
   "name": "python3"
  },
  "language_info": {
   "codemirror_mode": {
    "name": "ipython",
    "version": 3
   },
   "file_extension": ".py",
   "mimetype": "text/x-python",
   "name": "python",
   "nbconvert_exporter": "python",
   "pygments_lexer": "ipython3",
   "version": "3.6.3"
  }
 },
 "nbformat": 4,
 "nbformat_minor": 2
}
